{
 "cells": [
  {
   "cell_type": "markdown",
   "metadata": {},
   "source": [
    "The cereal dataset contains information about 95 different breakfast cereals. The cereals data dictionary file contains the names of the variables and what each variable represents. Note that there are 36 non-ID variables in this dataset."
   ]
  },
  {
   "cell_type": "markdown",
   "metadata": {},
   "source": [
    "- CerealName - The name of the cereal\n",
    "\n",
    "- Manufacturer - The company that makes the cereal\n",
    "\n",
    "- CFBAI.UNC - Whether the cereal meets the Children's Food and Beverage Advertising Initiative (CFBAI) Category-Specific Uniform Nutrition Criteria for Cereals\n",
    "\n",
    "- CFBAI.Approved - Whether the cereal has been approved by CFBAI for advertising to children. \n",
    "\n",
    "- Size - The size (in oz) of a regular-sized box\n",
    "\n",
    "- Shelf - The shelf (1 = bottom, 5 = top) on which the box's tag was located\n",
    "\n",
    "- Location - The location (1 = left, 12 = right) on which the box's tag was located\n",
    "\n",
    "- Price - The regular price (in dollars) of the box at an Albertson's in Irvine, CA on May 1, 2019\n",
    "\n",
    "- Serving.Size - The size (in grams) of a single serving of cereal\n",
    "\n",
    "- Calories - The number of calories in a single serving\n",
    "\n",
    "- Total.Fat - The total amount of fat (in g) in a single serving\n",
    "\n",
    "- Saturated.Fat - The amount of saturated fat (in g) in a single serving\n",
    "\n",
    "- Sodium - The amount of sodium (in mg) in a single serving\n",
    "\n",
    "- Potassium - The amount of potassium (in mg) in a single serving\n",
    "\n",
    "- Total.Carbohydrate - The total amount of carbohydrates (in g) in a single serving\n",
    "\n",
    "- Dietary.Fiber - The amount of dietary fiber (in g) in a single serving\n",
    "\n",
    "- Sugar - The amount of sugar (in g) in a single serving, including natural and added sugars\n",
    "\n",
    "- Protein\t- The amount of protein (in g) in a single serving\n",
    "\n",
    "- Vitamin.A - The % recommended daily value of Vitamin A in a single serving\n",
    "\n",
    "- Vitamin.C - The % recommended daily value of Vitamin C in a single serving\n",
    "\n",
    "- Calcium - The % recommended daily value of calcium in a single serving\n",
    "\n",
    "- Iron - The % recommended daily value of iron in a single serving\n",
    "\n",
    "- Vitamin.D - The % recommended daily value of Vitamin D in a single serving\n",
    "\n",
    "- Vitamin.E - The % recommended daily value of Vitamin E in a single serving\n",
    "\n",
    "- Thiamin - The % recommended daily value of thiamin (Vitamin B1) in a single serving\n",
    "\n",
    "- Riboflavin - The % recommended daily value of riboflavin (Vitamin B2) in a single serving\n",
    "\n",
    "- Niacin - The % recommended daily value of niacin (Vitamin B3) in a single serving\n",
    "\n",
    "- Pantothenic.Acid - The % recommended daily value of pantothenic acid (Vitamin B5) in a single serving\n",
    "\n",
    "- Vitamin.B6 - The % recommended daily value of Vitamin B6 in a single serving\n",
    "\n",
    "- Folic.Acid - The % recommended daily value of folic acid (folate) in a single serving\n",
    "\n",
    "- Vitamin.B12 - The % recommended daily value of Vitamin B12 in a single serving\n",
    "\n",
    "- Zinc - The % recommended daily value of zinc in a single serving\n",
    "\n",
    "- Magnesium - The % recommended daily value of magnesium in a single serving\n",
    "\n",
    "- Phosphorus - The % recommended daily value of phosphorus in a single serving\n",
    "\n",
    "- Selenium - The % recommended daily value of selenium in a single serving\n",
    "\n",
    "- Copper - The % recommended daily value of copper in a single serving\n",
    "\n",
    "- Manganese - The % recommended daily value of manganese in a single serving\n"
   ]
  },
  {
   "cell_type": "code",
   "execution_count": 101,
   "metadata": {},
   "outputs": [],
   "source": [
    "cereal = read.csv(\"cereal.csv\", h=T)\n",
    "#attach(cereal)"
   ]
  },
  {
   "cell_type": "code",
   "execution_count": 102,
   "metadata": {},
   "outputs": [
    {
     "data": {
      "text/html": [
       "<style>\n",
       ".dl-inline {width: auto; margin:0; padding: 0}\n",
       ".dl-inline>dt, .dl-inline>dd {float: none; width: auto; display: inline-block}\n",
       ".dl-inline>dt::after {content: \":\\0020\"; padding-right: .5ex}\n",
       ".dl-inline>dt:not(:first-of-type) {padding-left: .5ex}\n",
       "</style><dl class=dl-inline><dt>General Mills</dt><dd>29</dd><dt>Kellogg's</dt><dd>33</dd><dt>Post</dt><dd>23</dd><dt>Quaker</dt><dd>10</dd></dl>\n"
      ],
      "text/latex": [
       "\\begin{description*}\n",
       "\\item[General Mills] 29\n",
       "\\item[Kellogg's] 33\n",
       "\\item[Post] 23\n",
       "\\item[Quaker] 10\n",
       "\\end{description*}\n"
      ],
      "text/markdown": [
       "General Mills\n",
       ":   29Kellogg's\n",
       ":   33Post\n",
       ":   23Quaker\n",
       ":   10\n",
       "\n"
      ],
      "text/plain": [
       "General Mills     Kellogg's          Post        Quaker \n",
       "           29            33            23            10 "
      ]
     },
     "metadata": {},
     "output_type": "display_data"
    }
   ],
   "source": [
    "summary(cereal$Manufacturer)"
   ]
  },
  {
   "cell_type": "markdown",
   "metadata": {},
   "source": [
    "We can see there are 4 manufacturers. I want find out more information such as mean, variance, and median about the nutritional facts in question: calories, total fat, saturated fat, sodium, carbohydrates, dietary fiber, sugar, and protein."
   ]
  },
  {
   "cell_type": "code",
   "execution_count": 103,
   "metadata": {},
   "outputs": [],
   "source": [
    "library(ggplot2)\n",
    "library(tidyverse)"
   ]
  },
  {
   "cell_type": "markdown",
   "metadata": {},
   "source": [
    "I will look at a summary, boxplot, and histrogram for each nutritional fact separated by Manufacturer."
   ]
  },
  {
   "cell_type": "code",
   "execution_count": 104,
   "metadata": {},
   "outputs": [
    {
     "data": {
      "text/html": [
       "<table class=\"dataframe\">\n",
       "<caption>A tibble: 4 × 4</caption>\n",
       "<thead>\n",
       "\t<tr><th scope=col>Manufacturer</th><th scope=col>mean</th><th scope=col>var</th><th scope=col>median</th></tr>\n",
       "\t<tr><th scope=col>&lt;fct&gt;</th><th scope=col>&lt;dbl&gt;</th><th scope=col>&lt;dbl&gt;</th><th scope=col>&lt;dbl&gt;</th></tr>\n",
       "</thead>\n",
       "<tbody>\n",
       "\t<tr><td>General Mills</td><td>123.4483</td><td> 887.6847</td><td>120</td></tr>\n",
       "\t<tr><td>Kellogg's    </td><td>155.4545</td><td>2281.8182</td><td>150</td></tr>\n",
       "\t<tr><td>Post         </td><td>143.4783</td><td>1069.1700</td><td>130</td></tr>\n",
       "\t<tr><td>Quaker       </td><td>138.0000</td><td>2217.7778</td><td>120</td></tr>\n",
       "</tbody>\n",
       "</table>\n"
      ],
      "text/latex": [
       "A tibble: 4 × 4\n",
       "\\begin{tabular}{llll}\n",
       " Manufacturer & mean & var & median\\\\\n",
       " <fct> & <dbl> & <dbl> & <dbl>\\\\\n",
       "\\hline\n",
       "\t General Mills & 123.4483 &  887.6847 & 120\\\\\n",
       "\t Kellogg's     & 155.4545 & 2281.8182 & 150\\\\\n",
       "\t Post          & 143.4783 & 1069.1700 & 130\\\\\n",
       "\t Quaker        & 138.0000 & 2217.7778 & 120\\\\\n",
       "\\end{tabular}\n"
      ],
      "text/markdown": [
       "\n",
       "A tibble: 4 × 4\n",
       "\n",
       "| Manufacturer &lt;fct&gt; | mean &lt;dbl&gt; | var &lt;dbl&gt; | median &lt;dbl&gt; |\n",
       "|---|---|---|---|\n",
       "| General Mills | 123.4483 |  887.6847 | 120 |\n",
       "| Kellogg's     | 155.4545 | 2281.8182 | 150 |\n",
       "| Post          | 143.4783 | 1069.1700 | 130 |\n",
       "| Quaker        | 138.0000 | 2217.7778 | 120 |\n",
       "\n"
      ],
      "text/plain": [
       "  Manufacturer  mean     var       median\n",
       "1 General Mills 123.4483  887.6847 120   \n",
       "2 Kellogg's     155.4545 2281.8182 150   \n",
       "3 Post          143.4783 1069.1700 130   \n",
       "4 Quaker        138.0000 2217.7778 120   "
      ]
     },
     "metadata": {},
     "output_type": "display_data"
    }
   ],
   "source": [
    "cal.sum = cereal%>%group_by(Manufacturer) %>% summarize( mean=mean(Calories), var = var(Calories), median = median(Calories))\n",
    "cal.sum"
   ]
  },
  {
   "cell_type": "code",
   "execution_count": 105,
   "metadata": {},
   "outputs": [
    {
     "data": {
      "image/png": "[encoded data removed]",
      "text/plain": [
       "plot without title"
      ]
     },
     "metadata": {
      "image/png": {
       "height": 420,
       "width": 420
      }
     },
     "output_type": "display_data"
    }
   ],
   "source": [
    "box.cal = ggplot(cereal, aes(x = Manufacturer, y = Calories )) +\n",
    "        geom_boxplot(outlier.colour = \"red\", outlier.shape = 20,outlier.size=4) + \n",
    "    xlab(\"Manufacturer\") + ylab(\"Grams of Calories\") + scale_fill_grey() \n",
    "box.cal"
   ]
  },
  {
   "cell_type": "code",
   "execution_count": 106,
   "metadata": {},
   "outputs": [
    {
     "data": {
      "image/png": "[encoded data removed]",
      "text/plain": [
       "plot without title"
      ]
     },
     "metadata": {
      "image/png": {
       "height": 420,
       "width": 420
      }
     },
     "output_type": "display_data"
    }
   ],
   "source": [
    "hist.cal = ggplot(cereal, aes(x=Calories)) + geom_histogram(binwidth=10, color = \"black\", fill=\"hotpink3\") +\n",
    "    facet_wrap(.~Manufacturer) + xlab(\"Grams of Calories per Serving\") + ylab(\"Frequency\") + \n",
    "    ggtitle(\"Total per Manufacturer\") + theme(plot.title = element_text(hjust = 0.5))\n",
    "hist.cal"
   ]
  },
  {
   "cell_type": "markdown",
   "metadata": {},
   "source": [
    "We can see Kellogg's has the largest calorie mean and variance and while General Mills has the smallest. "
   ]
  },
  {
   "cell_type": "code",
   "execution_count": 107,
   "metadata": {},
   "outputs": [
    {
     "data": {
      "text/html": [
       "<table class=\"dataframe\">\n",
       "<caption>A tibble: 4 × 4</caption>\n",
       "<thead>\n",
       "\t<tr><th scope=col>Manufacturer</th><th scope=col>mean</th><th scope=col>var</th><th scope=col>median</th></tr>\n",
       "\t<tr><th scope=col>&lt;fct&gt;</th><th scope=col>&lt;dbl&gt;</th><th scope=col>&lt;dbl&gt;</th><th scope=col>&lt;dbl&gt;</th></tr>\n",
       "</thead>\n",
       "<tbody>\n",
       "\t<tr><td>General Mills</td><td>1.689655</td><td>0.9181034</td><td>1.5</td></tr>\n",
       "\t<tr><td>Kellogg's    </td><td>1.287879</td><td>2.9067235</td><td>1.0</td></tr>\n",
       "\t<tr><td>Post         </td><td>1.869565</td><td>1.6867589</td><td>1.5</td></tr>\n",
       "\t<tr><td>Quaker       </td><td>2.250000</td><td>2.9583333</td><td>1.5</td></tr>\n",
       "</tbody>\n",
       "</table>\n"
      ],
      "text/latex": [
       "A tibble: 4 × 4\n",
       "\\begin{tabular}{llll}\n",
       " Manufacturer & mean & var & median\\\\\n",
       " <fct> & <dbl> & <dbl> & <dbl>\\\\\n",
       "\\hline\n",
       "\t General Mills & 1.689655 & 0.9181034 & 1.5\\\\\n",
       "\t Kellogg's     & 1.287879 & 2.9067235 & 1.0\\\\\n",
       "\t Post          & 1.869565 & 1.6867589 & 1.5\\\\\n",
       "\t Quaker        & 2.250000 & 2.9583333 & 1.5\\\\\n",
       "\\end{tabular}\n"
      ],
      "text/markdown": [
       "\n",
       "A tibble: 4 × 4\n",
       "\n",
       "| Manufacturer &lt;fct&gt; | mean &lt;dbl&gt; | var &lt;dbl&gt; | median &lt;dbl&gt; |\n",
       "|---|---|---|---|\n",
       "| General Mills | 1.689655 | 0.9181034 | 1.5 |\n",
       "| Kellogg's     | 1.287879 | 2.9067235 | 1.0 |\n",
       "| Post          | 1.869565 | 1.6867589 | 1.5 |\n",
       "| Quaker        | 2.250000 | 2.9583333 | 1.5 |\n",
       "\n"
      ],
      "text/plain": [
       "  Manufacturer  mean     var       median\n",
       "1 General Mills 1.689655 0.9181034 1.5   \n",
       "2 Kellogg's     1.287879 2.9067235 1.0   \n",
       "3 Post          1.869565 1.6867589 1.5   \n",
       "4 Quaker        2.250000 2.9583333 1.5   "
      ]
     },
     "metadata": {},
     "output_type": "display_data"
    }
   ],
   "source": [
    "fat.sum = cereal%>%group_by(Manufacturer) %>% summarize( mean=mean(Total.Fat), var = var(Total.Fat), median = median(Total.Fat))\n",
    "fat.sum"
   ]
  },
  {
   "cell_type": "code",
   "execution_count": 108,
   "metadata": {},
   "outputs": [
    {
     "data": {
      "image/png": "[encoded data removed]",
      "text/plain": [
       "plot without title"
      ]
     },
     "metadata": {
      "image/png": {
       "height": 420,
       "width": 420
      }
     },
     "output_type": "display_data"
    }
   ],
   "source": [
    "box.tfat = ggplot(cereal, aes(x = Manufacturer, y = Total.Fat )) +\n",
    "    geom_boxplot(outlier.colour = \"red\", outlier.shape = 20, outlier.size=4) + xlab(\"Manufacturer\") + \n",
    "    ylab(\"Grams of Total Fat\") + scale_fill_grey() \n",
    "\n",
    "box.tfat"
   ]
  },
  {
   "cell_type": "code",
   "execution_count": 109,
   "metadata": {},
   "outputs": [
    {
     "data": {
      "image/png": "[encoded data removed]",
      "text/plain": [
       "plot without title"
      ]
     },
     "metadata": {
      "image/png": {
       "height": 420,
       "width": 420
      }
     },
     "output_type": "display_data"
    }
   ],
   "source": [
    "hist.tfat = ggplot(cereal, aes(x=Total.Fat)) + geom_histogram(binwidth=0.5, color = \"black\", fill=\"hotpink3\") +\n",
    "    facet_wrap(.~Manufacturer) + xlab(\"Grams of Total Fat per Serving\") + ylab(\"Frequency\") + \n",
    "    ggtitle(\"Total per Manufacturer\") + theme(plot.title = element_text(hjust = 0.5))\n",
    "hist.tfat"
   ]
  },
  {
   "cell_type": "markdown",
   "metadata": {},
   "source": [
    "We can see Quaker has the largest total fat mean and variance while Kellogg's has the smallest mean and median but a high variance."
   ]
  },
  {
   "cell_type": "code",
   "execution_count": 110,
   "metadata": {},
   "outputs": [
    {
     "data": {
      "text/html": [
       "<table class=\"dataframe\">\n",
       "<caption>A tibble: 4 × 4</caption>\n",
       "<thead>\n",
       "\t<tr><th scope=col>Manufacturer</th><th scope=col>mean</th><th scope=col>var</th><th scope=col>median</th></tr>\n",
       "\t<tr><th scope=col>&lt;fct&gt;</th><th scope=col>&lt;dbl&gt;</th><th scope=col>&lt;dbl&gt;</th><th scope=col>&lt;dbl&gt;</th></tr>\n",
       "</thead>\n",
       "<tbody>\n",
       "\t<tr><td>General Mills</td><td>0.1551724</td><td>0.0911330</td><td>0.0</td></tr>\n",
       "\t<tr><td>Kellogg's    </td><td>0.3484848</td><td>0.6013258</td><td>0.0</td></tr>\n",
       "\t<tr><td>Post         </td><td>0.3478261</td><td>1.1235178</td><td>0.0</td></tr>\n",
       "\t<tr><td>Quaker       </td><td>0.4500000</td><td>0.1916667</td><td>0.5</td></tr>\n",
       "</tbody>\n",
       "</table>\n"
      ],
      "text/latex": [
       "A tibble: 4 × 4\n",
       "\\begin{tabular}{llll}\n",
       " Manufacturer & mean & var & median\\\\\n",
       " <fct> & <dbl> & <dbl> & <dbl>\\\\\n",
       "\\hline\n",
       "\t General Mills & 0.1551724 & 0.0911330 & 0.0\\\\\n",
       "\t Kellogg's     & 0.3484848 & 0.6013258 & 0.0\\\\\n",
       "\t Post          & 0.3478261 & 1.1235178 & 0.0\\\\\n",
       "\t Quaker        & 0.4500000 & 0.1916667 & 0.5\\\\\n",
       "\\end{tabular}\n"
      ],
      "text/markdown": [
       "\n",
       "A tibble: 4 × 4\n",
       "\n",
       "| Manufacturer &lt;fct&gt; | mean &lt;dbl&gt; | var &lt;dbl&gt; | median &lt;dbl&gt; |\n",
       "|---|---|---|---|\n",
       "| General Mills | 0.1551724 | 0.0911330 | 0.0 |\n",
       "| Kellogg's     | 0.3484848 | 0.6013258 | 0.0 |\n",
       "| Post          | 0.3478261 | 1.1235178 | 0.0 |\n",
       "| Quaker        | 0.4500000 | 0.1916667 | 0.5 |\n",
       "\n"
      ],
      "text/plain": [
       "  Manufacturer  mean      var       median\n",
       "1 General Mills 0.1551724 0.0911330 0.0   \n",
       "2 Kellogg's     0.3484848 0.6013258 0.0   \n",
       "3 Post          0.3478261 1.1235178 0.0   \n",
       "4 Quaker        0.4500000 0.1916667 0.5   "
      ]
     },
     "metadata": {},
     "output_type": "display_data"
    }
   ],
   "source": [
    "satfat.sum = cereal%>%group_by(Manufacturer) %>% summarize(mean=mean(Saturated.Fat), var = var(Saturated.Fat), median = median(Saturated.Fat))\n",
    "satfat.sum"
   ]
  },
  {
   "cell_type": "markdown",
   "metadata": {},
   "source": [
    "We can see that most of the cereals manufactured by General Mills, Kellogg's and Post have no saturated fat while Quake has a median of 0.5 grams."
   ]
  },
  {
   "cell_type": "code",
   "execution_count": 111,
   "metadata": {},
   "outputs": [
    {
     "data": {
      "image/png": "[encoded data removed]",
      "text/plain": [
       "plot without title"
      ]
     },
     "metadata": {
      "image/png": {
       "height": 420,
       "width": 420
      }
     },
     "output_type": "display_data"
    }
   ],
   "source": [
    "box.satfat = ggplot(cereal, aes(x = Manufacturer, y = Saturated.Fat )) + \n",
    "    geom_boxplot(outlier.colour = \"red\", outlier.shape = 20,outlier.size=4) + xlab(\"Manufacturer\") + \n",
    "    ylab(\"Grams of Saturated Fat\") + scale_fill_grey() \n",
    "box.satfat"
   ]
  },
  {
   "cell_type": "code",
   "execution_count": 112,
   "metadata": {},
   "outputs": [
    {
     "data": {
      "image/png": "[encoded data removed]",
      "text/plain": [
       "plot without title"
      ]
     },
     "metadata": {
      "image/png": {
       "height": 420,
       "width": 420
      }
     },
     "output_type": "display_data"
    }
   ],
   "source": [
    "hist.satfat = ggplot(cereal, aes(x=Saturated.Fat)) + geom_histogram(binwidth=0.5, color = \"black\", fill=\"hotpink3\") +\n",
    "    facet_wrap(.~Manufacturer) + xlab(\"Grams of Saturated Fat per Serving\") + ylab(\"Frequency\") + \n",
    "    ggtitle(\"Total Amount per Manufacturer\") + theme(plot.title = element_text(hjust = 0.5))\n",
    "hist.satfat"
   ]
  },
  {
   "cell_type": "code",
   "execution_count": 113,
   "metadata": {},
   "outputs": [
    {
     "data": {
      "text/html": [
       "<table class=\"dataframe\">\n",
       "<caption>A tibble: 4 × 4</caption>\n",
       "<thead>\n",
       "\t<tr><th scope=col>Manufacturer</th><th scope=col>mean</th><th scope=col>var</th><th scope=col>median</th></tr>\n",
       "\t<tr><th scope=col>&lt;fct&gt;</th><th scope=col>&lt;dbl&gt;</th><th scope=col>&lt;dbl&gt;</th><th scope=col>&lt;dbl&gt;</th></tr>\n",
       "</thead>\n",
       "<tbody>\n",
       "\t<tr><td>General Mills</td><td>176.0690</td><td>1918.495</td><td>180</td></tr>\n",
       "\t<tr><td>Kellogg's    </td><td>153.3333</td><td>6258.854</td><td>150</td></tr>\n",
       "\t<tr><td>Post         </td><td>148.2609</td><td>4571.838</td><td>150</td></tr>\n",
       "\t<tr><td>Quaker       </td><td>166.0000</td><td>2404.444</td><td>175</td></tr>\n",
       "</tbody>\n",
       "</table>\n"
      ],
      "text/latex": [
       "A tibble: 4 × 4\n",
       "\\begin{tabular}{llll}\n",
       " Manufacturer & mean & var & median\\\\\n",
       " <fct> & <dbl> & <dbl> & <dbl>\\\\\n",
       "\\hline\n",
       "\t General Mills & 176.0690 & 1918.495 & 180\\\\\n",
       "\t Kellogg's     & 153.3333 & 6258.854 & 150\\\\\n",
       "\t Post          & 148.2609 & 4571.838 & 150\\\\\n",
       "\t Quaker        & 166.0000 & 2404.444 & 175\\\\\n",
       "\\end{tabular}\n"
      ],
      "text/markdown": [
       "\n",
       "A tibble: 4 × 4\n",
       "\n",
       "| Manufacturer &lt;fct&gt; | mean &lt;dbl&gt; | var &lt;dbl&gt; | median &lt;dbl&gt; |\n",
       "|---|---|---|---|\n",
       "| General Mills | 176.0690 | 1918.495 | 180 |\n",
       "| Kellogg's     | 153.3333 | 6258.854 | 150 |\n",
       "| Post          | 148.2609 | 4571.838 | 150 |\n",
       "| Quaker        | 166.0000 | 2404.444 | 175 |\n",
       "\n"
      ],
      "text/plain": [
       "  Manufacturer  mean     var      median\n",
       "1 General Mills 176.0690 1918.495 180   \n",
       "2 Kellogg's     153.3333 6258.854 150   \n",
       "3 Post          148.2609 4571.838 150   \n",
       "4 Quaker        166.0000 2404.444 175   "
      ]
     },
     "metadata": {},
     "output_type": "display_data"
    }
   ],
   "source": [
    "sodium.sum = cereal%>%group_by(Manufacturer) %>% summarize(mean=mean(Sodium), var = var(Sodium), median = median(Sodium))\n",
    "sodium.sum"
   ]
  },
  {
   "cell_type": "code",
   "execution_count": 114,
   "metadata": {},
   "outputs": [
    {
     "data": {
      "image/png": "[encoded data removed]",
      "text/plain": [
       "plot without title"
      ]
     },
     "metadata": {
      "image/png": {
       "height": 420,
       "width": 420
      }
     },
     "output_type": "display_data"
    }
   ],
   "source": [
    "box.sodium = ggplot(cereal, aes(x = Manufacturer, y = Sodium )) + \n",
    "    geom_boxplot(outlier.colour = \"red\", outlier.shape = 20,outlier.size=4) + xlab(\"Manufacturer\") + \n",
    "    ylab(\"Grams of Sodium\") + scale_fill_grey() \n",
    "box.sodium"
   ]
  },
  {
   "cell_type": "code",
   "execution_count": 115,
   "metadata": {},
   "outputs": [
    {
     "data": {
      "image/png": "[encoded data removed]",
      "text/plain": [
       "plot without title"
      ]
     },
     "metadata": {
      "image/png": {
       "height": 420,
       "width": 420
      }
     },
     "output_type": "display_data"
    }
   ],
   "source": [
    "hist.sodium = ggplot(cereal, aes(x=Sodium)) + geom_histogram(binwidth=20, color = \"black\", fill=\"hotpink3\") +\n",
    "    facet_wrap(.~Manufacturer) + xlab(\"Grams of Sodium per Serving\") + ylab(\"Frequency\") + \n",
    "    ggtitle(\"Total Amount per Manufacturer\") + theme(plot.title = element_text(hjust = 0.5))\n",
    "hist.sodium"
   ]
  },
  {
   "cell_type": "markdown",
   "metadata": {},
   "source": [
    "We can see General Mills has a greater amount of sodium in its cereals than the other manufacturers."
   ]
  },
  {
   "cell_type": "code",
   "execution_count": 116,
   "metadata": {},
   "outputs": [
    {
     "data": {
      "text/html": [
       "<table class=\"dataframe\">\n",
       "<caption>A tibble: 4 × 4</caption>\n",
       "<thead>\n",
       "\t<tr><th scope=col>Manufacturer</th><th scope=col>mean</th><th scope=col>var</th><th scope=col>median</th></tr>\n",
       "\t<tr><th scope=col>&lt;fct&gt;</th><th scope=col>&lt;dbl&gt;</th><th scope=col>&lt;dbl&gt;</th><th scope=col>&lt;dbl&gt;</th></tr>\n",
       "</thead>\n",
       "<tbody>\n",
       "\t<tr><td>General Mills</td><td>26.86207</td><td> 36.12315</td><td>25</td></tr>\n",
       "\t<tr><td>Kellogg's    </td><td>35.33333</td><td>100.29167</td><td>34</td></tr>\n",
       "\t<tr><td>Post         </td><td>30.82609</td><td> 74.87747</td><td>26</td></tr>\n",
       "\t<tr><td>Quaker       </td><td>27.90000</td><td> 63.43333</td><td>25</td></tr>\n",
       "</tbody>\n",
       "</table>\n"
      ],
      "text/latex": [
       "A tibble: 4 × 4\n",
       "\\begin{tabular}{llll}\n",
       " Manufacturer & mean & var & median\\\\\n",
       " <fct> & <dbl> & <dbl> & <dbl>\\\\\n",
       "\\hline\n",
       "\t General Mills & 26.86207 &  36.12315 & 25\\\\\n",
       "\t Kellogg's     & 35.33333 & 100.29167 & 34\\\\\n",
       "\t Post          & 30.82609 &  74.87747 & 26\\\\\n",
       "\t Quaker        & 27.90000 &  63.43333 & 25\\\\\n",
       "\\end{tabular}\n"
      ],
      "text/markdown": [
       "\n",
       "A tibble: 4 × 4\n",
       "\n",
       "| Manufacturer &lt;fct&gt; | mean &lt;dbl&gt; | var &lt;dbl&gt; | median &lt;dbl&gt; |\n",
       "|---|---|---|---|\n",
       "| General Mills | 26.86207 |  36.12315 | 25 |\n",
       "| Kellogg's     | 35.33333 | 100.29167 | 34 |\n",
       "| Post          | 30.82609 |  74.87747 | 26 |\n",
       "| Quaker        | 27.90000 |  63.43333 | 25 |\n",
       "\n"
      ],
      "text/plain": [
       "  Manufacturer  mean     var       median\n",
       "1 General Mills 26.86207  36.12315 25    \n",
       "2 Kellogg's     35.33333 100.29167 34    \n",
       "3 Post          30.82609  74.87747 26    \n",
       "4 Quaker        27.90000  63.43333 25    "
      ]
     },
     "metadata": {},
     "output_type": "display_data"
    }
   ],
   "source": [
    "carb.sum = cereal%>%group_by(Manufacturer) %>% summarize(mean=mean(Total.Carbohydrate), var = var(Total.Carbohydrate), \n",
    "                                                         median = median(Total.Carbohydrate))\n",
    "carb.sum"
   ]
  },
  {
   "cell_type": "code",
   "execution_count": 117,
   "metadata": {},
   "outputs": [
    {
     "data": {
      "image/png": "[encoded data removed]",
      "text/plain": [
       "plot without title"
      ]
     },
     "metadata": {
      "image/png": {
       "height": 420,
       "width": 420
      }
     },
     "output_type": "display_data"
    }
   ],
   "source": [
    "box.carb = ggplot(cereal, aes(x = Manufacturer, y = Total.Carbohydrate )) +\n",
    "    geom_boxplot(outlier.colour = \"red\", outlier.shape = 20,outlier.size=4) + xlab(\"Manufacturer\") + \n",
    "    ylab(\"Grams of Carbohydrates\") + scale_fill_grey() \n",
    "box.carb"
   ]
  },
  {
   "cell_type": "code",
   "execution_count": 118,
   "metadata": {},
   "outputs": [
    {
     "data": {
      "image/png": "[encoded data removed]",
      "text/plain": [
       "plot without title"
      ]
     },
     "metadata": {
      "image/png": {
       "height": 420,
       "width": 420
      }
     },
     "output_type": "display_data"
    }
   ],
   "source": [
    "hist.carb = ggplot(cereal, aes(x=Total.Carbohydrate)) + geom_histogram(binwidth=2, color = \"black\", fill=\"hotpink3\") +\n",
    "    facet_wrap(.~Manufacturer) + xlab(\"Grams of Carbohydrates per Serving\") + ylab(\"Frequency\") + \n",
    "    ggtitle(\"Total Amount per Manufacturer\") + theme(plot.title = element_text(hjust = 0.5))\n",
    "hist.carb"
   ]
  },
  {
   "cell_type": "markdown",
   "metadata": {},
   "source": [
    "Kellogg's has the highest amount of carbohydrates in its cereals with a large variance of 100 grams."
   ]
  },
  {
   "cell_type": "code",
   "execution_count": 119,
   "metadata": {},
   "outputs": [
    {
     "data": {
      "text/html": [
       "<table class=\"dataframe\">\n",
       "<caption>A tibble: 4 × 4</caption>\n",
       "<thead>\n",
       "\t<tr><th scope=col>Manufacturer</th><th scope=col>mean</th><th scope=col>var</th><th scope=col>median</th></tr>\n",
       "\t<tr><th scope=col>&lt;fct&gt;</th><th scope=col>&lt;dbl&gt;</th><th scope=col>&lt;dbl&gt;</th><th scope=col>&lt;dbl&gt;</th></tr>\n",
       "</thead>\n",
       "<tbody>\n",
       "\t<tr><td>General Mills</td><td>2.551724</td><td>7.113300</td><td>2</td></tr>\n",
       "\t<tr><td>Kellogg's    </td><td>3.303030</td><td>9.092803</td><td>3</td></tr>\n",
       "\t<tr><td>Post         </td><td>2.565217</td><td>9.984190</td><td>1</td></tr>\n",
       "\t<tr><td>Quaker       </td><td>1.600000</td><td>2.711111</td><td>2</td></tr>\n",
       "</tbody>\n",
       "</table>\n"
      ],
      "text/latex": [
       "A tibble: 4 × 4\n",
       "\\begin{tabular}{llll}\n",
       " Manufacturer & mean & var & median\\\\\n",
       " <fct> & <dbl> & <dbl> & <dbl>\\\\\n",
       "\\hline\n",
       "\t General Mills & 2.551724 & 7.113300 & 2\\\\\n",
       "\t Kellogg's     & 3.303030 & 9.092803 & 3\\\\\n",
       "\t Post          & 2.565217 & 9.984190 & 1\\\\\n",
       "\t Quaker        & 1.600000 & 2.711111 & 2\\\\\n",
       "\\end{tabular}\n"
      ],
      "text/markdown": [
       "\n",
       "A tibble: 4 × 4\n",
       "\n",
       "| Manufacturer &lt;fct&gt; | mean &lt;dbl&gt; | var &lt;dbl&gt; | median &lt;dbl&gt; |\n",
       "|---|---|---|---|\n",
       "| General Mills | 2.551724 | 7.113300 | 2 |\n",
       "| Kellogg's     | 3.303030 | 9.092803 | 3 |\n",
       "| Post          | 2.565217 | 9.984190 | 1 |\n",
       "| Quaker        | 1.600000 | 2.711111 | 2 |\n",
       "\n"
      ],
      "text/plain": [
       "  Manufacturer  mean     var      median\n",
       "1 General Mills 2.551724 7.113300 2     \n",
       "2 Kellogg's     3.303030 9.092803 3     \n",
       "3 Post          2.565217 9.984190 1     \n",
       "4 Quaker        1.600000 2.711111 2     "
      ]
     },
     "metadata": {},
     "output_type": "display_data"
    }
   ],
   "source": [
    "fiber.sum = cereal%>%group_by(Manufacturer) %>% summarize(mean=mean(Dietary.Fiber), var = var(Dietary.Fiber), \n",
    "                                                          median = median(Dietary.Fiber))\n",
    "fiber.sum"
   ]
  },
  {
   "cell_type": "code",
   "execution_count": 120,
   "metadata": {},
   "outputs": [
    {
     "data": {
      "image/png": "[encoded data removed]",
      "text/plain": [
       "plot without title"
      ]
     },
     "metadata": {
      "image/png": {
       "height": 420,
       "width": 420
      }
     },
     "output_type": "display_data"
    }
   ],
   "source": [
    "box.fiber = ggplot(cereal, aes(x = Manufacturer, y = Dietary.Fiber )) +\n",
    "    geom_boxplot(outlier.colour = \"red\", outlier.shape = 20,outlier.size=4) + xlab(\"Manufacturer\") + \n",
    "    ylab(\"Grams of Fiber\") + scale_fill_grey() \n",
    "box.fiber"
   ]
  },
  {
   "cell_type": "code",
   "execution_count": 121,
   "metadata": {},
   "outputs": [
    {
     "data": {
      "image/png": "[encoded data removed]",
      "text/plain": [
       "plot without title"
      ]
     },
     "metadata": {
      "image/png": {
       "height": 420,
       "width": 420
      }
     },
     "output_type": "display_data"
    }
   ],
   "source": [
    "hist.fiber = ggplot(cereal, aes(x=Dietary.Fiber)) + geom_histogram(binwidth=1, color = \"black\", fill=\"hotpink3\") +\n",
    "    facet_wrap(.~Manufacturer) + xlab(\"Grams of Fiber per Serving\") + ylab(\"Frequency\") + \n",
    "    ggtitle(\"Total Amount per Manufacturer\") + theme(plot.title = element_text(hjust = 0.5))\n",
    "hist.fiber"
   ]
  },
  {
   "cell_type": "markdown",
   "metadata": {},
   "source": [
    "Kellogg's includes more fiber in its cereals than the other manufacturers. "
   ]
  },
  {
   "cell_type": "code",
   "execution_count": 122,
   "metadata": {},
   "outputs": [
    {
     "data": {
      "text/html": [
       "<table class=\"dataframe\">\n",
       "<caption>A tibble: 4 × 4</caption>\n",
       "<thead>\n",
       "\t<tr><th scope=col>Manufacturer</th><th scope=col>mean</th><th scope=col>var</th><th scope=col>median</th></tr>\n",
       "\t<tr><th scope=col>&lt;fct&gt;</th><th scope=col>&lt;dbl&gt;</th><th scope=col>&lt;dbl&gt;</th><th scope=col>&lt;dbl&gt;</th></tr>\n",
       "</thead>\n",
       "<tbody>\n",
       "\t<tr><td>General Mills</td><td> 7.482759</td><td>12.97291</td><td> 9</td></tr>\n",
       "\t<tr><td>Kellogg's    </td><td>10.909091</td><td>13.77273</td><td>11</td></tr>\n",
       "\t<tr><td>Post         </td><td>10.217391</td><td>24.72332</td><td>11</td></tr>\n",
       "\t<tr><td>Quaker       </td><td> 9.600000</td><td>10.93333</td><td> 9</td></tr>\n",
       "</tbody>\n",
       "</table>\n"
      ],
      "text/latex": [
       "A tibble: 4 × 4\n",
       "\\begin{tabular}{llll}\n",
       " Manufacturer & mean & var & median\\\\\n",
       " <fct> & <dbl> & <dbl> & <dbl>\\\\\n",
       "\\hline\n",
       "\t General Mills &  7.482759 & 12.97291 &  9\\\\\n",
       "\t Kellogg's     & 10.909091 & 13.77273 & 11\\\\\n",
       "\t Post          & 10.217391 & 24.72332 & 11\\\\\n",
       "\t Quaker        &  9.600000 & 10.93333 &  9\\\\\n",
       "\\end{tabular}\n"
      ],
      "text/markdown": [
       "\n",
       "A tibble: 4 × 4\n",
       "\n",
       "| Manufacturer &lt;fct&gt; | mean &lt;dbl&gt; | var &lt;dbl&gt; | median &lt;dbl&gt; |\n",
       "|---|---|---|---|\n",
       "| General Mills |  7.482759 | 12.97291 |  9 |\n",
       "| Kellogg's     | 10.909091 | 13.77273 | 11 |\n",
       "| Post          | 10.217391 | 24.72332 | 11 |\n",
       "| Quaker        |  9.600000 | 10.93333 |  9 |\n",
       "\n"
      ],
      "text/plain": [
       "  Manufacturer  mean      var      median\n",
       "1 General Mills  7.482759 12.97291  9    \n",
       "2 Kellogg's     10.909091 13.77273 11    \n",
       "3 Post          10.217391 24.72332 11    \n",
       "4 Quaker         9.600000 10.93333  9    "
      ]
     },
     "metadata": {},
     "output_type": "display_data"
    }
   ],
   "source": [
    "sugar.sum = cereal%>%group_by(Manufacturer) %>% summarize( mean=mean(Sugar), var = var(Sugar), median = median(Sugar))\n",
    "sugar.sum"
   ]
  },
  {
   "cell_type": "code",
   "execution_count": 123,
   "metadata": {},
   "outputs": [
    {
     "data": {
      "image/png": "[encoded data removed]",
      "text/plain": [
       "plot without title"
      ]
     },
     "metadata": {
      "image/png": {
       "height": 420,
       "width": 420
      }
     },
     "output_type": "display_data"
    }
   ],
   "source": [
    "box.sugar = ggplot(cereal, aes(x = Manufacturer, y = Sugar )) +\n",
    "    geom_boxplot(outlier.colour = \"red\", outlier.shape = 20,outlier.size=4) + xlab(\"Manufacturer\") + \n",
    "    ylab(\"Grams of Sugar\") + scale_fill_grey() \n",
    "box.sugar"
   ]
  },
  {
   "cell_type": "code",
   "execution_count": 124,
   "metadata": {},
   "outputs": [
    {
     "data": {
      "image/png": "[encoded data removed]",
      "text/plain": [
       "plot without title"
      ]
     },
     "metadata": {
      "image/png": {
       "height": 420,
       "width": 420
      }
     },
     "output_type": "display_data"
    }
   ],
   "source": [
    "hist.sugar = ggplot(cereal, aes(x=Sugar)) + geom_histogram(binwidth=0.5, color = \"black\", fill=\"hotpink3\") +\n",
    "    facet_wrap(.~Manufacturer) + xlab(\"Grams of Sugar per Serving\") + ylab(\"Frequency\") + \n",
    "    ggtitle(\"Total Amount per Manufacturer\") + theme(plot.title = element_text(hjust = 0.5))\n",
    "hist.sugar"
   ]
  },
  {
   "cell_type": "markdown",
   "metadata": {},
   "source": [
    "Kellogg's and Post have more sugar in their cereals that General Mills and Quaker."
   ]
  },
  {
   "cell_type": "code",
   "execution_count": 125,
   "metadata": {},
   "outputs": [
    {
     "data": {
      "text/html": [
       "<table class=\"dataframe\">\n",
       "<caption>A tibble: 4 × 4</caption>\n",
       "<thead>\n",
       "\t<tr><th scope=col>Manufacturer</th><th scope=col>mean</th><th scope=col>var</th><th scope=col>median</th></tr>\n",
       "\t<tr><th scope=col>&lt;fct&gt;</th><th scope=col>&lt;dbl&gt;</th><th scope=col>&lt;dbl&gt;</th><th scope=col>&lt;dbl&gt;</th></tr>\n",
       "</thead>\n",
       "<tbody>\n",
       "\t<tr><td>General Mills</td><td>2.034483</td><td>0.9630542</td><td>2</td></tr>\n",
       "\t<tr><td>Kellogg's    </td><td>3.272727</td><td>2.4545455</td><td>3</td></tr>\n",
       "\t<tr><td>Post         </td><td>2.652174</td><td>3.8735178</td><td>2</td></tr>\n",
       "\t<tr><td>Quaker       </td><td>2.800000</td><td>2.8444444</td><td>3</td></tr>\n",
       "</tbody>\n",
       "</table>\n"
      ],
      "text/latex": [
       "A tibble: 4 × 4\n",
       "\\begin{tabular}{llll}\n",
       " Manufacturer & mean & var & median\\\\\n",
       " <fct> & <dbl> & <dbl> & <dbl>\\\\\n",
       "\\hline\n",
       "\t General Mills & 2.034483 & 0.9630542 & 2\\\\\n",
       "\t Kellogg's     & 3.272727 & 2.4545455 & 3\\\\\n",
       "\t Post          & 2.652174 & 3.8735178 & 2\\\\\n",
       "\t Quaker        & 2.800000 & 2.8444444 & 3\\\\\n",
       "\\end{tabular}\n"
      ],
      "text/markdown": [
       "\n",
       "A tibble: 4 × 4\n",
       "\n",
       "| Manufacturer &lt;fct&gt; | mean &lt;dbl&gt; | var &lt;dbl&gt; | median &lt;dbl&gt; |\n",
       "|---|---|---|---|\n",
       "| General Mills | 2.034483 | 0.9630542 | 2 |\n",
       "| Kellogg's     | 3.272727 | 2.4545455 | 3 |\n",
       "| Post          | 2.652174 | 3.8735178 | 2 |\n",
       "| Quaker        | 2.800000 | 2.8444444 | 3 |\n",
       "\n"
      ],
      "text/plain": [
       "  Manufacturer  mean     var       median\n",
       "1 General Mills 2.034483 0.9630542 2     \n",
       "2 Kellogg's     3.272727 2.4545455 3     \n",
       "3 Post          2.652174 3.8735178 2     \n",
       "4 Quaker        2.800000 2.8444444 3     "
      ]
     },
     "metadata": {},
     "output_type": "display_data"
    }
   ],
   "source": [
    "protein.sum = cereal%>%group_by(Manufacturer) %>% summarize( mean=mean(Protein), var = var(Protein), median = median(Protein))\n",
    "protein.sum"
   ]
  },
  {
   "cell_type": "code",
   "execution_count": 126,
   "metadata": {},
   "outputs": [
    {
     "data": {
      "image/png": "[encoded data removed]",
      "text/plain": [
       "plot without title"
      ]
     },
     "metadata": {
      "image/png": {
       "height": 420,
       "width": 420
      }
     },
     "output_type": "display_data"
    }
   ],
   "source": [
    "box.protein = ggplot(cereal, aes(x = Manufacturer, y = Protein )) +\n",
    "    geom_boxplot(outlier.colour = \"red\", outlier.shape = 20,outlier.size=4) + xlab(\"Manufacturer\") + \n",
    "    ylab(\"Grams of Protein\") + scale_fill_grey() \n",
    "box.protein"
   ]
  },
  {
   "cell_type": "code",
   "execution_count": 127,
   "metadata": {},
   "outputs": [
    {
     "data": {
      "image/png": "[encoded data removed]",
      "text/plain": [
       "plot without title"
      ]
     },
     "metadata": {
      "image/png": {
       "height": 420,
       "width": 420
      }
     },
     "output_type": "display_data"
    }
   ],
   "source": [
    "hist.protein = ggplot(cereal, aes(x=Protein)) + geom_histogram(binwidth=0.5, color = \"black\", fill=\"hotpink3\") +\n",
    "    facet_wrap(.~Manufacturer) + xlab(\"Grams of Protein per Serving\") + ylab(\"Frequency\") + \n",
    "    ggtitle(\"Total Amount per Manufacturer\") + theme(plot.title = element_text(hjust = 0.5))\n",
    "hist.protein"
   ]
  },
  {
   "cell_type": "markdown",
   "metadata": {},
   "source": [
    "General Mills includes slightly less protein in their cereal than the other manufacturers while Kellogg's includes slightly more. \n",
    "\n",
    "I will perform Principle Component Analysis. "
   ]
  },
  {
   "cell_type": "code",
   "execution_count": 128,
   "metadata": {},
   "outputs": [],
   "source": [
    "cereal1 = cereal %>% mutate(Cereal.Name = NULL)%>% mutate(Manufacturer = as.numeric(Manufacturer))%>% \n",
    "    mutate (CFBAI.UNC = as.numeric(CFBAI.UNC))%>% mutate(CFBAI.Approved = as.numeric(CFBAI.Approved))\n",
    "cereal1 = na.omit(cereal1)"
   ]
  },
  {
   "cell_type": "code",
   "execution_count": 129,
   "metadata": {},
   "outputs": [],
   "source": [
    "library(recipes)\n",
    "cereal.recipe = recipe(~Total.Fat+Sugar+Total.Carbohydrate+Protein+Manufacturer, data = cereal1)"
   ]
  },
  {
   "cell_type": "code",
   "execution_count": 130,
   "metadata": {},
   "outputs": [],
   "source": [
    "cereal.recipe %>% \n",
    "  step_center(all_numeric()) %>%  # recipe step 1: center numerical variables to mean 0\n",
    "  step_scale(all_numeric()) %>% # recipe step 2: scale numerical to sd 1\n",
    "  step_pca(all_numeric()) -> cereal_final_recipe  # recipe step 3: do PCA"
   ]
  },
  {
   "cell_type": "code",
   "execution_count": 131,
   "metadata": {},
   "outputs": [
    {
     "data": {
      "text/html": [
       "<table class=\"dataframe\">\n",
       "<caption>A tibble: 76 × 5</caption>\n",
       "<thead>\n",
       "\t<tr><th scope=col>PC1</th><th scope=col>PC2</th><th scope=col>PC3</th><th scope=col>PC4</th><th scope=col>PC5</th></tr>\n",
       "\t<tr><th scope=col>&lt;dbl&gt;</th><th scope=col>&lt;dbl&gt;</th><th scope=col>&lt;dbl&gt;</th><th scope=col>&lt;dbl&gt;</th><th scope=col>&lt;dbl&gt;</th></tr>\n",
       "</thead>\n",
       "<tbody>\n",
       "\t<tr><td>-0.3936261</td><td> 0.8788815429</td><td>-0.2646271</td><td> 0.64795732</td><td> 0.922140070</td></tr>\n",
       "\t<tr><td>-0.6330451</td><td>-0.1827425981</td><td>-0.4624962</td><td>-0.25449198</td><td> 0.269723843</td></tr>\n",
       "\t<tr><td> 1.2208873</td><td> 0.3652380277</td><td> 1.4246021</td><td>-0.79624410</td><td>-0.102431716</td></tr>\n",
       "\t<tr><td>-1.6388996</td><td>-0.2063174575</td><td> 1.1075056</td><td> 0.28548794</td><td>-0.330680494</td></tr>\n",
       "\t<tr><td>-1.6729533</td><td> 1.1717595572</td><td> 1.0657907</td><td> 1.17307817</td><td> 0.411097926</td></tr>\n",
       "\t<tr><td> 1.0597118</td><td>-1.3293383159</td><td> 2.3467208</td><td>-0.15667140</td><td>-0.193783066</td></tr>\n",
       "\t<tr><td>-0.4755180</td><td>-1.4047065278</td><td>-1.1408339</td><td> 0.46550942</td><td>-0.067203516</td></tr>\n",
       "\t<tr><td>-0.9798985</td><td>-0.1751210670</td><td> 1.2156905</td><td> 0.07055437</td><td> 0.066911694</td></tr>\n",
       "\t<tr><td>-0.6330451</td><td>-0.1827425981</td><td>-0.4624962</td><td>-0.25449198</td><td> 0.269723843</td></tr>\n",
       "\t<tr><td>-1.6388996</td><td>-0.2063174575</td><td> 1.1075056</td><td> 0.28548794</td><td>-0.330680494</td></tr>\n",
       "\t<tr><td>-1.0129819</td><td>-0.0002510658</td><td>-0.9760899</td><td>-0.80716324</td><td>-0.178598058</td></tr>\n",
       "\t<tr><td>-1.2749799</td><td>-0.8228268309</td><td> 1.3113968</td><td> 0.01209820</td><td>-0.196326791</td></tr>\n",
       "\t<tr><td>-0.6810750</td><td>-0.6934552048</td><td>-0.5453035</td><td>-0.72364874</td><td>-0.131693814</td></tr>\n",
       "\t<tr><td>-0.5830026</td><td>-0.8112819790</td><td>-1.5491487</td><td> 0.19304022</td><td>-0.190273672</td></tr>\n",
       "\t<tr><td>-1.5654904</td><td>-0.2130059079</td><td> 0.6278049</td><td>-0.56347889</td><td>-0.006318857</td></tr>\n",
       "\t<tr><td>-0.3953488</td><td>-0.2011912521</td><td> 0.8229704</td><td>-1.03909564</td><td> 0.014269245</td></tr>\n",
       "\t<tr><td>-1.5814164</td><td> 1.3914646566</td><td> 0.3961550</td><td> 0.02075160</td><td>-0.251569059</td></tr>\n",
       "\t<tr><td>-1.3702680</td><td> 1.2103541302</td><td>-0.8443683</td><td> 0.42744586</td><td>-0.148446282</td></tr>\n",
       "\t<tr><td> 0.2194555</td><td> 0.1917410355</td><td>-0.7388870</td><td>-1.16555376</td><td>-0.382682219</td></tr>\n",
       "\t<tr><td> 2.3939445</td><td>-3.1925392563</td><td> 2.9674091</td><td> 1.64766736</td><td> 0.126152097</td></tr>\n",
       "\t<tr><td>-0.1378306</td><td> 1.4023462316</td><td>-0.6071654</td><td> 0.06905533</td><td>-0.352530443</td></tr>\n",
       "\t<tr><td>-1.8472352</td><td> 1.5746274628</td><td> 0.6264888</td><td> 0.70176889</td><td>-0.412315326</td></tr>\n",
       "\t<tr><td>-1.4447604</td><td>-0.4095797276</td><td> 0.8610446</td><td>-0.37759723</td><td>-0.094724683</td></tr>\n",
       "\t<tr><td>-0.6330451</td><td>-0.1827425981</td><td>-0.4624962</td><td>-0.25449198</td><td> 0.269723843</td></tr>\n",
       "\t<tr><td>-1.0129819</td><td>-0.0002510658</td><td>-0.9760899</td><td>-0.80716324</td><td>-0.178598058</td></tr>\n",
       "\t<tr><td> 2.5343595</td><td> 0.7327714041</td><td> 0.2139521</td><td>-0.79866367</td><td>-0.264449995</td></tr>\n",
       "\t<tr><td> 2.1213198</td><td> 0.3188065718</td><td> 0.5611963</td><td>-0.13035295</td><td> 0.086161527</td></tr>\n",
       "\t<tr><td> 2.0855148</td><td> 0.9323305845</td><td> 0.1690088</td><td>-0.42075427</td><td>-0.112118173</td></tr>\n",
       "\t<tr><td> 2.5023467</td><td> 0.6560766384</td><td> 0.4408474</td><td>-0.44175943</td><td>-0.351899453</td></tr>\n",
       "\t<tr><td> 2.5343595</td><td> 0.7327714041</td><td> 0.2139521</td><td>-0.79866367</td><td>-0.264449995</td></tr>\n",
       "\t<tr><td>⋮</td><td>⋮</td><td>⋮</td><td>⋮</td><td>⋮</td></tr>\n",
       "\t<tr><td>-0.27450341</td><td>-3.68900433</td><td> 0.48100386</td><td> 1.66272708</td><td>-0.423772344</td></tr>\n",
       "\t<tr><td> 1.92338840</td><td> 1.21228762</td><td> 0.18857453</td><td>-0.11457334</td><td>-0.260624525</td></tr>\n",
       "\t<tr><td>-1.60404553</td><td> 1.15469191</td><td> 0.59714022</td><td> 0.24249750</td><td>-0.189555797</td></tr>\n",
       "\t<tr><td>-1.25164175</td><td> 0.11454389</td><td> 0.48027841</td><td>-0.77533941</td><td> 0.555845067</td></tr>\n",
       "\t<tr><td>-1.38348500</td><td> 0.49798361</td><td> 0.76877683</td><td> 0.00497199</td><td> 0.095216993</td></tr>\n",
       "\t<tr><td> 0.05438982</td><td>-1.74424423</td><td>-1.10567349</td><td>-0.06549046</td><td>-0.145282162</td></tr>\n",
       "\t<tr><td> 0.35705572</td><td>-2.47697602</td><td> 0.03678594</td><td> 1.28757683</td><td> 0.339616804</td></tr>\n",
       "\t<tr><td>-0.29076252</td><td>-1.44789082</td><td>-1.36138484</td><td>-0.06241741</td><td> 0.019289575</td></tr>\n",
       "\t<tr><td> 3.29032122</td><td>-0.66496149</td><td>-0.89406611</td><td>-1.24185679</td><td> 0.420458277</td></tr>\n",
       "\t<tr><td> 1.82244620</td><td> 0.36131959</td><td> 0.03781973</td><td>-0.83611468</td><td>-0.287907199</td></tr>\n",
       "\t<tr><td> 1.26607593</td><td>-0.40836397</td><td> 1.79087953</td><td>-0.64100112</td><td> 0.245310703</td></tr>\n",
       "\t<tr><td>-1.13650311</td><td>-0.61217072</td><td> 1.35851107</td><td> 0.19300615</td><td> 0.428806762</td></tr>\n",
       "\t<tr><td>-1.87751831</td><td> 1.47114478</td><td> 0.35755612</td><td> 0.22763842</td><td>-0.100193604</td></tr>\n",
       "\t<tr><td>-0.93080704</td><td> 1.17087293</td><td>-0.77351491</td><td> 0.18469479</td><td>-0.450240824</td></tr>\n",
       "\t<tr><td> 1.52081563</td><td> 2.26486711</td><td>-0.71580355</td><td> 2.07258896</td><td>-0.138633520</td></tr>\n",
       "\t<tr><td> 2.49681803</td><td> 2.47994404</td><td>-0.27417697</td><td> 2.26005738</td><td>-0.354001228</td></tr>\n",
       "\t<tr><td> 3.29807330</td><td> 0.13337613</td><td> 0.24567406</td><td>-1.65377660</td><td>-0.269231831</td></tr>\n",
       "\t<tr><td> 0.54475053</td><td>-0.30421801</td><td> 0.20258720</td><td>-0.03423237</td><td> 0.040203485</td></tr>\n",
       "\t<tr><td> 0.80497787</td><td>-1.01752161</td><td> 0.61724638</td><td> 0.06721425</td><td> 0.162317273</td></tr>\n",
       "\t<tr><td> 0.75213514</td><td>-0.11062955</td><td>-0.21894891</td><td>-0.78390509</td><td> 0.064683315</td></tr>\n",
       "\t<tr><td> 0.96688401</td><td> 2.16899362</td><td>-0.08870490</td><td> 0.87097609</td><td> 1.608340682</td></tr>\n",
       "\t<tr><td> 0.39759915</td><td> 0.34580184</td><td>-0.44875014</td><td>-0.64567369</td><td> 0.079792332</td></tr>\n",
       "\t<tr><td> 0.42402051</td><td>-0.10764419</td><td>-0.03065250</td><td>-0.22011402</td><td> 0.128609311</td></tr>\n",
       "\t<tr><td>-0.59717056</td><td> 0.45088088</td><td>-0.83855648</td><td>-0.56282542</td><td>-0.003765399</td></tr>\n",
       "\t<tr><td>-1.49096957</td><td> 1.09140816</td><td> 0.36046205</td><td>-0.26749721</td><td>-0.027853163</td></tr>\n",
       "\t<tr><td>-1.19770897</td><td>-0.27258657</td><td> 0.68253105</td><td>-0.78829783</td><td>-0.232903855</td></tr>\n",
       "\t<tr><td>-1.63889956</td><td>-0.20631746</td><td> 1.10750564</td><td> 0.28548794</td><td>-0.330680494</td></tr>\n",
       "\t<tr><td> 0.62214113</td><td> 1.96899086</td><td> 1.08984433</td><td> 0.06660169</td><td> 0.104531712</td></tr>\n",
       "\t<tr><td>-1.71539190</td><td> 1.19118775</td><td> 0.33799040</td><td>-0.07854251</td><td> 0.048312748</td></tr>\n",
       "\t<tr><td>-0.61041600</td><td> 0.05403015</td><td>-0.66348141</td><td>-0.47623787</td><td> 0.207710582</td></tr>\n",
       "</tbody>\n",
       "</table>\n"
      ],
      "text/latex": [
       "A tibble: 76 × 5\n",
       "\\begin{tabular}{lllll}\n",
       " PC1 & PC2 & PC3 & PC4 & PC5\\\\\n",
       " <dbl> & <dbl> & <dbl> & <dbl> & <dbl>\\\\\n",
       "\\hline\n",
       "\t -0.3936261 &  0.8788815429 & -0.2646271 &  0.64795732 &  0.922140070\\\\\n",
       "\t -0.6330451 & -0.1827425981 & -0.4624962 & -0.25449198 &  0.269723843\\\\\n",
       "\t  1.2208873 &  0.3652380277 &  1.4246021 & -0.79624410 & -0.102431716\\\\\n",
       "\t -1.6388996 & -0.2063174575 &  1.1075056 &  0.28548794 & -0.330680494\\\\\n",
       "\t -1.6729533 &  1.1717595572 &  1.0657907 &  1.17307817 &  0.411097926\\\\\n",
       "\t  1.0597118 & -1.3293383159 &  2.3467208 & -0.15667140 & -0.193783066\\\\\n",
       "\t -0.4755180 & -1.4047065278 & -1.1408339 &  0.46550942 & -0.067203516\\\\\n",
       "\t -0.9798985 & -0.1751210670 &  1.2156905 &  0.07055437 &  0.066911694\\\\\n",
       "\t -0.6330451 & -0.1827425981 & -0.4624962 & -0.25449198 &  0.269723843\\\\\n",
       "\t -1.6388996 & -0.2063174575 &  1.1075056 &  0.28548794 & -0.330680494\\\\\n",
       "\t -1.0129819 & -0.0002510658 & -0.9760899 & -0.80716324 & -0.178598058\\\\\n",
       "\t -1.2749799 & -0.8228268309 &  1.3113968 &  0.01209820 & -0.196326791\\\\\n",
       "\t -0.6810750 & -0.6934552048 & -0.5453035 & -0.72364874 & -0.131693814\\\\\n",
       "\t -0.5830026 & -0.8112819790 & -1.5491487 &  0.19304022 & -0.190273672\\\\\n",
       "\t -1.5654904 & -0.2130059079 &  0.6278049 & -0.56347889 & -0.006318857\\\\\n",
       "\t -0.3953488 & -0.2011912521 &  0.8229704 & -1.03909564 &  0.014269245\\\\\n",
       "\t -1.5814164 &  1.3914646566 &  0.3961550 &  0.02075160 & -0.251569059\\\\\n",
       "\t -1.3702680 &  1.2103541302 & -0.8443683 &  0.42744586 & -0.148446282\\\\\n",
       "\t  0.2194555 &  0.1917410355 & -0.7388870 & -1.16555376 & -0.382682219\\\\\n",
       "\t  2.3939445 & -3.1925392563 &  2.9674091 &  1.64766736 &  0.126152097\\\\\n",
       "\t -0.1378306 &  1.4023462316 & -0.6071654 &  0.06905533 & -0.352530443\\\\\n",
       "\t -1.8472352 &  1.5746274628 &  0.6264888 &  0.70176889 & -0.412315326\\\\\n",
       "\t -1.4447604 & -0.4095797276 &  0.8610446 & -0.37759723 & -0.094724683\\\\\n",
       "\t -0.6330451 & -0.1827425981 & -0.4624962 & -0.25449198 &  0.269723843\\\\\n",
       "\t -1.0129819 & -0.0002510658 & -0.9760899 & -0.80716324 & -0.178598058\\\\\n",
       "\t  2.5343595 &  0.7327714041 &  0.2139521 & -0.79866367 & -0.264449995\\\\\n",
       "\t  2.1213198 &  0.3188065718 &  0.5611963 & -0.13035295 &  0.086161527\\\\\n",
       "\t  2.0855148 &  0.9323305845 &  0.1690088 & -0.42075427 & -0.112118173\\\\\n",
       "\t  2.5023467 &  0.6560766384 &  0.4408474 & -0.44175943 & -0.351899453\\\\\n",
       "\t  2.5343595 &  0.7327714041 &  0.2139521 & -0.79866367 & -0.264449995\\\\\n",
       "\t ⋮ & ⋮ & ⋮ & ⋮ & ⋮\\\\\n",
       "\t -0.27450341 & -3.68900433 &  0.48100386 &  1.66272708 & -0.423772344\\\\\n",
       "\t  1.92338840 &  1.21228762 &  0.18857453 & -0.11457334 & -0.260624525\\\\\n",
       "\t -1.60404553 &  1.15469191 &  0.59714022 &  0.24249750 & -0.189555797\\\\\n",
       "\t -1.25164175 &  0.11454389 &  0.48027841 & -0.77533941 &  0.555845067\\\\\n",
       "\t -1.38348500 &  0.49798361 &  0.76877683 &  0.00497199 &  0.095216993\\\\\n",
       "\t  0.05438982 & -1.74424423 & -1.10567349 & -0.06549046 & -0.145282162\\\\\n",
       "\t  0.35705572 & -2.47697602 &  0.03678594 &  1.28757683 &  0.339616804\\\\\n",
       "\t -0.29076252 & -1.44789082 & -1.36138484 & -0.06241741 &  0.019289575\\\\\n",
       "\t  3.29032122 & -0.66496149 & -0.89406611 & -1.24185679 &  0.420458277\\\\\n",
       "\t  1.82244620 &  0.36131959 &  0.03781973 & -0.83611468 & -0.287907199\\\\\n",
       "\t  1.26607593 & -0.40836397 &  1.79087953 & -0.64100112 &  0.245310703\\\\\n",
       "\t -1.13650311 & -0.61217072 &  1.35851107 &  0.19300615 &  0.428806762\\\\\n",
       "\t -1.87751831 &  1.47114478 &  0.35755612 &  0.22763842 & -0.100193604\\\\\n",
       "\t -0.93080704 &  1.17087293 & -0.77351491 &  0.18469479 & -0.450240824\\\\\n",
       "\t  1.52081563 &  2.26486711 & -0.71580355 &  2.07258896 & -0.138633520\\\\\n",
       "\t  2.49681803 &  2.47994404 & -0.27417697 &  2.26005738 & -0.354001228\\\\\n",
       "\t  3.29807330 &  0.13337613 &  0.24567406 & -1.65377660 & -0.269231831\\\\\n",
       "\t  0.54475053 & -0.30421801 &  0.20258720 & -0.03423237 &  0.040203485\\\\\n",
       "\t  0.80497787 & -1.01752161 &  0.61724638 &  0.06721425 &  0.162317273\\\\\n",
       "\t  0.75213514 & -0.11062955 & -0.21894891 & -0.78390509 &  0.064683315\\\\\n",
       "\t  0.96688401 &  2.16899362 & -0.08870490 &  0.87097609 &  1.608340682\\\\\n",
       "\t  0.39759915 &  0.34580184 & -0.44875014 & -0.64567369 &  0.079792332\\\\\n",
       "\t  0.42402051 & -0.10764419 & -0.03065250 & -0.22011402 &  0.128609311\\\\\n",
       "\t -0.59717056 &  0.45088088 & -0.83855648 & -0.56282542 & -0.003765399\\\\\n",
       "\t -1.49096957 &  1.09140816 &  0.36046205 & -0.26749721 & -0.027853163\\\\\n",
       "\t -1.19770897 & -0.27258657 &  0.68253105 & -0.78829783 & -0.232903855\\\\\n",
       "\t -1.63889956 & -0.20631746 &  1.10750564 &  0.28548794 & -0.330680494\\\\\n",
       "\t  0.62214113 &  1.96899086 &  1.08984433 &  0.06660169 &  0.104531712\\\\\n",
       "\t -1.71539190 &  1.19118775 &  0.33799040 & -0.07854251 &  0.048312748\\\\\n",
       "\t -0.61041600 &  0.05403015 & -0.66348141 & -0.47623787 &  0.207710582\\\\\n",
       "\\end{tabular}\n"
      ],
      "text/markdown": [
       "\n",
       "A tibble: 76 × 5\n",
       "\n",
       "| PC1 &lt;dbl&gt; | PC2 &lt;dbl&gt; | PC3 &lt;dbl&gt; | PC4 &lt;dbl&gt; | PC5 &lt;dbl&gt; |\n",
       "|---|---|---|---|---|\n",
       "| -0.3936261 |  0.8788815429 | -0.2646271 |  0.64795732 |  0.922140070 |\n",
       "| -0.6330451 | -0.1827425981 | -0.4624962 | -0.25449198 |  0.269723843 |\n",
       "|  1.2208873 |  0.3652380277 |  1.4246021 | -0.79624410 | -0.102431716 |\n",
       "| -1.6388996 | -0.2063174575 |  1.1075056 |  0.28548794 | -0.330680494 |\n",
       "| -1.6729533 |  1.1717595572 |  1.0657907 |  1.17307817 |  0.411097926 |\n",
       "|  1.0597118 | -1.3293383159 |  2.3467208 | -0.15667140 | -0.193783066 |\n",
       "| -0.4755180 | -1.4047065278 | -1.1408339 |  0.46550942 | -0.067203516 |\n",
       "| -0.9798985 | -0.1751210670 |  1.2156905 |  0.07055437 |  0.066911694 |\n",
       "| -0.6330451 | -0.1827425981 | -0.4624962 | -0.25449198 |  0.269723843 |\n",
       "| -1.6388996 | -0.2063174575 |  1.1075056 |  0.28548794 | -0.330680494 |\n",
       "| -1.0129819 | -0.0002510658 | -0.9760899 | -0.80716324 | -0.178598058 |\n",
       "| -1.2749799 | -0.8228268309 |  1.3113968 |  0.01209820 | -0.196326791 |\n",
       "| -0.6810750 | -0.6934552048 | -0.5453035 | -0.72364874 | -0.131693814 |\n",
       "| -0.5830026 | -0.8112819790 | -1.5491487 |  0.19304022 | -0.190273672 |\n",
       "| -1.5654904 | -0.2130059079 |  0.6278049 | -0.56347889 | -0.006318857 |\n",
       "| -0.3953488 | -0.2011912521 |  0.8229704 | -1.03909564 |  0.014269245 |\n",
       "| -1.5814164 |  1.3914646566 |  0.3961550 |  0.02075160 | -0.251569059 |\n",
       "| -1.3702680 |  1.2103541302 | -0.8443683 |  0.42744586 | -0.148446282 |\n",
       "|  0.2194555 |  0.1917410355 | -0.7388870 | -1.16555376 | -0.382682219 |\n",
       "|  2.3939445 | -3.1925392563 |  2.9674091 |  1.64766736 |  0.126152097 |\n",
       "| -0.1378306 |  1.4023462316 | -0.6071654 |  0.06905533 | -0.352530443 |\n",
       "| -1.8472352 |  1.5746274628 |  0.6264888 |  0.70176889 | -0.412315326 |\n",
       "| -1.4447604 | -0.4095797276 |  0.8610446 | -0.37759723 | -0.094724683 |\n",
       "| -0.6330451 | -0.1827425981 | -0.4624962 | -0.25449198 |  0.269723843 |\n",
       "| -1.0129819 | -0.0002510658 | -0.9760899 | -0.80716324 | -0.178598058 |\n",
       "|  2.5343595 |  0.7327714041 |  0.2139521 | -0.79866367 | -0.264449995 |\n",
       "|  2.1213198 |  0.3188065718 |  0.5611963 | -0.13035295 |  0.086161527 |\n",
       "|  2.0855148 |  0.9323305845 |  0.1690088 | -0.42075427 | -0.112118173 |\n",
       "|  2.5023467 |  0.6560766384 |  0.4408474 | -0.44175943 | -0.351899453 |\n",
       "|  2.5343595 |  0.7327714041 |  0.2139521 | -0.79866367 | -0.264449995 |\n",
       "| ⋮ | ⋮ | ⋮ | ⋮ | ⋮ |\n",
       "| -0.27450341 | -3.68900433 |  0.48100386 |  1.66272708 | -0.423772344 |\n",
       "|  1.92338840 |  1.21228762 |  0.18857453 | -0.11457334 | -0.260624525 |\n",
       "| -1.60404553 |  1.15469191 |  0.59714022 |  0.24249750 | -0.189555797 |\n",
       "| -1.25164175 |  0.11454389 |  0.48027841 | -0.77533941 |  0.555845067 |\n",
       "| -1.38348500 |  0.49798361 |  0.76877683 |  0.00497199 |  0.095216993 |\n",
       "|  0.05438982 | -1.74424423 | -1.10567349 | -0.06549046 | -0.145282162 |\n",
       "|  0.35705572 | -2.47697602 |  0.03678594 |  1.28757683 |  0.339616804 |\n",
       "| -0.29076252 | -1.44789082 | -1.36138484 | -0.06241741 |  0.019289575 |\n",
       "|  3.29032122 | -0.66496149 | -0.89406611 | -1.24185679 |  0.420458277 |\n",
       "|  1.82244620 |  0.36131959 |  0.03781973 | -0.83611468 | -0.287907199 |\n",
       "|  1.26607593 | -0.40836397 |  1.79087953 | -0.64100112 |  0.245310703 |\n",
       "| -1.13650311 | -0.61217072 |  1.35851107 |  0.19300615 |  0.428806762 |\n",
       "| -1.87751831 |  1.47114478 |  0.35755612 |  0.22763842 | -0.100193604 |\n",
       "| -0.93080704 |  1.17087293 | -0.77351491 |  0.18469479 | -0.450240824 |\n",
       "|  1.52081563 |  2.26486711 | -0.71580355 |  2.07258896 | -0.138633520 |\n",
       "|  2.49681803 |  2.47994404 | -0.27417697 |  2.26005738 | -0.354001228 |\n",
       "|  3.29807330 |  0.13337613 |  0.24567406 | -1.65377660 | -0.269231831 |\n",
       "|  0.54475053 | -0.30421801 |  0.20258720 | -0.03423237 |  0.040203485 |\n",
       "|  0.80497787 | -1.01752161 |  0.61724638 |  0.06721425 |  0.162317273 |\n",
       "|  0.75213514 | -0.11062955 | -0.21894891 | -0.78390509 |  0.064683315 |\n",
       "|  0.96688401 |  2.16899362 | -0.08870490 |  0.87097609 |  1.608340682 |\n",
       "|  0.39759915 |  0.34580184 | -0.44875014 | -0.64567369 |  0.079792332 |\n",
       "|  0.42402051 | -0.10764419 | -0.03065250 | -0.22011402 |  0.128609311 |\n",
       "| -0.59717056 |  0.45088088 | -0.83855648 | -0.56282542 | -0.003765399 |\n",
       "| -1.49096957 |  1.09140816 |  0.36046205 | -0.26749721 | -0.027853163 |\n",
       "| -1.19770897 | -0.27258657 |  0.68253105 | -0.78829783 | -0.232903855 |\n",
       "| -1.63889956 | -0.20631746 |  1.10750564 |  0.28548794 | -0.330680494 |\n",
       "|  0.62214113 |  1.96899086 |  1.08984433 |  0.06660169 |  0.104531712 |\n",
       "| -1.71539190 |  1.19118775 |  0.33799040 | -0.07854251 |  0.048312748 |\n",
       "| -0.61041600 |  0.05403015 | -0.66348141 | -0.47623787 |  0.207710582 |\n",
       "\n"
      ],
      "text/plain": [
       "   PC1         PC2           PC3         PC4         PC5         \n",
       "1  -0.3936261   0.8788815429 -0.2646271   0.64795732  0.922140070\n",
       "2  -0.6330451  -0.1827425981 -0.4624962  -0.25449198  0.269723843\n",
       "3   1.2208873   0.3652380277  1.4246021  -0.79624410 -0.102431716\n",
       "4  -1.6388996  -0.2063174575  1.1075056   0.28548794 -0.330680494\n",
       "5  -1.6729533   1.1717595572  1.0657907   1.17307817  0.411097926\n",
       "6   1.0597118  -1.3293383159  2.3467208  -0.15667140 -0.193783066\n",
       "7  -0.4755180  -1.4047065278 -1.1408339   0.46550942 -0.067203516\n",
       "8  -0.9798985  -0.1751210670  1.2156905   0.07055437  0.066911694\n",
       "9  -0.6330451  -0.1827425981 -0.4624962  -0.25449198  0.269723843\n",
       "10 -1.6388996  -0.2063174575  1.1075056   0.28548794 -0.330680494\n",
       "11 -1.0129819  -0.0002510658 -0.9760899  -0.80716324 -0.178598058\n",
       "12 -1.2749799  -0.8228268309  1.3113968   0.01209820 -0.196326791\n",
       "13 -0.6810750  -0.6934552048 -0.5453035  -0.72364874 -0.131693814\n",
       "14 -0.5830026  -0.8112819790 -1.5491487   0.19304022 -0.190273672\n",
       "15 -1.5654904  -0.2130059079  0.6278049  -0.56347889 -0.006318857\n",
       "16 -0.3953488  -0.2011912521  0.8229704  -1.03909564  0.014269245\n",
       "17 -1.5814164   1.3914646566  0.3961550   0.02075160 -0.251569059\n",
       "18 -1.3702680   1.2103541302 -0.8443683   0.42744586 -0.148446282\n",
       "19  0.2194555   0.1917410355 -0.7388870  -1.16555376 -0.382682219\n",
       "20  2.3939445  -3.1925392563  2.9674091   1.64766736  0.126152097\n",
       "21 -0.1378306   1.4023462316 -0.6071654   0.06905533 -0.352530443\n",
       "22 -1.8472352   1.5746274628  0.6264888   0.70176889 -0.412315326\n",
       "23 -1.4447604  -0.4095797276  0.8610446  -0.37759723 -0.094724683\n",
       "24 -0.6330451  -0.1827425981 -0.4624962  -0.25449198  0.269723843\n",
       "25 -1.0129819  -0.0002510658 -0.9760899  -0.80716324 -0.178598058\n",
       "26  2.5343595   0.7327714041  0.2139521  -0.79866367 -0.264449995\n",
       "27  2.1213198   0.3188065718  0.5611963  -0.13035295  0.086161527\n",
       "28  2.0855148   0.9323305845  0.1690088  -0.42075427 -0.112118173\n",
       "29  2.5023467   0.6560766384  0.4408474  -0.44175943 -0.351899453\n",
       "30  2.5343595   0.7327714041  0.2139521  -0.79866367 -0.264449995\n",
       "<U+22EE>  <U+22EE>    <U+22EE>      <U+22EE>    <U+22EE>    <U+22EE>    \n",
       "47 -0.27450341 -3.68900433    0.48100386  1.66272708 -0.423772344\n",
       "48  1.92338840  1.21228762    0.18857453 -0.11457334 -0.260624525\n",
       "49 -1.60404553  1.15469191    0.59714022  0.24249750 -0.189555797\n",
       "50 -1.25164175  0.11454389    0.48027841 -0.77533941  0.555845067\n",
       "51 -1.38348500  0.49798361    0.76877683  0.00497199  0.095216993\n",
       "52  0.05438982 -1.74424423   -1.10567349 -0.06549046 -0.145282162\n",
       "53  0.35705572 -2.47697602    0.03678594  1.28757683  0.339616804\n",
       "54 -0.29076252 -1.44789082   -1.36138484 -0.06241741  0.019289575\n",
       "55  3.29032122 -0.66496149   -0.89406611 -1.24185679  0.420458277\n",
       "56  1.82244620  0.36131959    0.03781973 -0.83611468 -0.287907199\n",
       "57  1.26607593 -0.40836397    1.79087953 -0.64100112  0.245310703\n",
       "58 -1.13650311 -0.61217072    1.35851107  0.19300615  0.428806762\n",
       "59 -1.87751831  1.47114478    0.35755612  0.22763842 -0.100193604\n",
       "60 -0.93080704  1.17087293   -0.77351491  0.18469479 -0.450240824\n",
       "61  1.52081563  2.26486711   -0.71580355  2.07258896 -0.138633520\n",
       "62  2.49681803  2.47994404   -0.27417697  2.26005738 -0.354001228\n",
       "63  3.29807330  0.13337613    0.24567406 -1.65377660 -0.269231831\n",
       "64  0.54475053 -0.30421801    0.20258720 -0.03423237  0.040203485\n",
       "65  0.80497787 -1.01752161    0.61724638  0.06721425  0.162317273\n",
       "66  0.75213514 -0.11062955   -0.21894891 -0.78390509  0.064683315\n",
       "67  0.96688401  2.16899362   -0.08870490  0.87097609  1.608340682\n",
       "68  0.39759915  0.34580184   -0.44875014 -0.64567369  0.079792332\n",
       "69  0.42402051 -0.10764419   -0.03065250 -0.22011402  0.128609311\n",
       "70 -0.59717056  0.45088088   -0.83855648 -0.56282542 -0.003765399\n",
       "71 -1.49096957  1.09140816    0.36046205 -0.26749721 -0.027853163\n",
       "72 -1.19770897 -0.27258657    0.68253105 -0.78829783 -0.232903855\n",
       "73 -1.63889956 -0.20631746    1.10750564  0.28548794 -0.330680494\n",
       "74  0.62214113  1.96899086    1.08984433  0.06660169  0.104531712\n",
       "75 -1.71539190  1.19118775    0.33799040 -0.07854251  0.048312748\n",
       "76 -0.61041600  0.05403015   -0.66348141 -0.47623787  0.207710582"
      ]
     },
     "metadata": {},
     "output_type": "display_data"
    }
   ],
   "source": [
    "cereal.prepped = prep(cereal_final_recipe, training = cereal1, retain= TRUE)\n",
    "pcs = juice(cereal.prepped)\n",
    "pcs"
   ]
  },
  {
   "cell_type": "code",
   "execution_count": 132,
   "metadata": {},
   "outputs": [],
   "source": [
    "loadings.out = tidy(cereal.prepped, number = 3)"
   ]
  },
  {
   "cell_type": "code",
   "execution_count": 133,
   "metadata": {},
   "outputs": [],
   "source": [
    "PC.names = unique(loadings.out$component)\n",
    "term.names  = unique(loadings.out$terms)"
   ]
  },
  {
   "cell_type": "code",
   "execution_count": 138,
   "metadata": {},
   "outputs": [],
   "source": [
    "loadings.matrix = matrix(loadings.out$value, nrow = length(term.names), ncol = length(PC.names))\n",
    "rownames(loadings.matrix) = term.names\n",
    "colnames(loadings.matrix) = PC.names"
   ]
  },
  {
   "cell_type": "code",
   "execution_count": 139,
   "metadata": {},
   "outputs": [
    {
     "name": "stderr",
     "output_type": "stream",
     "text": [
      "Warning message:\n",
      "\"Setting row names on a tibble is deprecated.\"\n"
     ]
    },
    {
     "data": {
      "image/png": "[encoded data removed]",
      "text/plain": [
       "plot without title"
      ]
     },
     "metadata": {
      "image/png": {
       "height": 420,
       "width": 420
      }
     },
     "output_type": "display_data"
    }
   ],
   "source": [
    "biplot(pcs[,1:2], loadings.matrix[,1:2], xlab = \"First Principal Component\", ylab = \"Second Principal Component\")"
   ]
  },
  {
   "cell_type": "markdown",
   "metadata": {},
   "source": [
    "Observing the histograms for the nutritional facts in question, we see that the distributions are not normal. I will use the non-parametric Kruskal Wallis test to test the following hypothesis for each nutritional fact in question:\n",
    "\n",
    "Null hypothesis - $H_0$: The median of the nutritional fact in question is the same for each Manufacturers. \n",
    "\n",
    "Alternative hypothesis - $H_A$: The median of the nutritional fact in question varies among Manufacturers."
   ]
  },
  {
   "cell_type": "code",
   "execution_count": 140,
   "metadata": {
    "scrolled": true
   },
   "outputs": [],
   "source": [
    "library(coin)"
   ]
  },
  {
   "cell_type": "code",
   "execution_count": 141,
   "metadata": {},
   "outputs": [
    {
     "data": {
      "text/plain": [
       "\n",
       "\tApproximative Kruskal-Wallis Test\n",
       "\n",
       "data:  Calories by\n",
       "\t Manufacturer (General Mills, Kellogg's, Post, Quaker)\n",
       "chi-squared = 9.3256, p-value = 0.0222\n"
      ]
     },
     "metadata": {},
     "output_type": "display_data"
    }
   ],
   "source": [
    "cal.hyp=kruskal_test(Calories~Manufacturer, data = cereal, distribution=approximate(nresample=10000))\n",
    "cal.hyp"
   ]
  },
  {
   "cell_type": "markdown",
   "metadata": {},
   "source": [
    "Our p-value is less than our 5% significance level, therefore we can reject the null hypothesis and claim that the median of calories is different between manufacturers. "
   ]
  },
  {
   "cell_type": "code",
   "execution_count": 142,
   "metadata": {},
   "outputs": [
    {
     "data": {
      "text/plain": [
       "\n",
       "\tApproximative Kruskal-Wallis Test\n",
       "\n",
       "data:  Total.Fat by\n",
       "\t Manufacturer (General Mills, Kellogg's, Post, Quaker)\n",
       "chi-squared = 15.211, p-value = 0.0016\n"
      ]
     },
     "metadata": {},
     "output_type": "display_data"
    }
   ],
   "source": [
    "tfat.hyp = kruskal_test(Total.Fat~Manufacturer, data = cereal, distribution=approximate(nresample=10000))\n",
    "tfat.hyp"
   ]
  },
  {
   "cell_type": "markdown",
   "metadata": {},
   "source": [
    "Our p-value is less than our 5% significance level, therefore we can reject the null hypothesis and claim that the median of total fat is different between manufacturers. "
   ]
  },
  {
   "cell_type": "code",
   "execution_count": 143,
   "metadata": {},
   "outputs": [
    {
     "data": {
      "text/plain": [
       "\n",
       "\tApproximative Kruskal-Wallis Test\n",
       "\n",
       "data:  Saturated.Fat by\n",
       "\t Manufacturer (General Mills, Kellogg's, Post, Quaker)\n",
       "chi-squared = 5.3532, p-value = 0.1445\n"
      ]
     },
     "metadata": {},
     "output_type": "display_data"
    }
   ],
   "source": [
    "satfat.hyp=kruskal_test(Saturated.Fat~Manufacturer, data = cereal, distribution=approximate(nresample=10000))\n",
    "satfat.hyp"
   ]
  },
  {
   "cell_type": "markdown",
   "metadata": {},
   "source": [
    "Our p-value is greater than 5% significance level therefore we accept our null hypothesis and claim that the median of saturated fat is the same among Manufacturers."
   ]
  },
  {
   "cell_type": "code",
   "execution_count": 144,
   "metadata": {},
   "outputs": [
    {
     "data": {
      "text/plain": [
       "\n",
       "\tApproximative Kruskal-Wallis Test\n",
       "\n",
       "data:  Sodium by\n",
       "\t Manufacturer (General Mills, Kellogg's, Post, Quaker)\n",
       "chi-squared = 2.7794, p-value = 0.4347\n"
      ]
     },
     "metadata": {},
     "output_type": "display_data"
    }
   ],
   "source": [
    "sod.hyp = kruskal_test(Sodium~Manufacturer, data = cereal, distribution=approximate(nresample=10000))\n",
    "sod.hyp"
   ]
  },
  {
   "cell_type": "markdown",
   "metadata": {},
   "source": [
    "Our p-value is greater than 5% significance level therefore we accept our null hypothesis and claim that the median of sodium is the same among Manufacturers."
   ]
  },
  {
   "cell_type": "code",
   "execution_count": 145,
   "metadata": {},
   "outputs": [
    {
     "data": {
      "text/plain": [
       "\n",
       "\tApproximative Kruskal-Wallis Test\n",
       "\n",
       "data:  Total.Carbohydrate by\n",
       "\t Manufacturer (General Mills, Kellogg's, Post, Quaker)\n",
       "chi-squared = 18.914, p-value = 3e-04\n"
      ]
     },
     "metadata": {},
     "output_type": "display_data"
    }
   ],
   "source": [
    "carb.hyp = kruskal_test(Total.Carbohydrate~Manufacturer, data = cereal, distribution=approximate(nresample=10000))\n",
    "carb.hyp"
   ]
  },
  {
   "cell_type": "markdown",
   "metadata": {},
   "source": [
    "Our p-value is less than our 5% significance level, therefore we can reject the null hypothesis and claim that the median of carbohydrates is different between manufacturers. "
   ]
  },
  {
   "cell_type": "code",
   "execution_count": 146,
   "metadata": {},
   "outputs": [
    {
     "data": {
      "text/plain": [
       "\n",
       "\tApproximative Kruskal-Wallis Test\n",
       "\n",
       "data:  Dietary.Fiber by\n",
       "\t Manufacturer (General Mills, Kellogg's, Post, Quaker)\n",
       "chi-squared = 3.4908, p-value = 0.3243\n"
      ]
     },
     "metadata": {},
     "output_type": "display_data"
    }
   ],
   "source": [
    "fiber.hyp =kruskal_test(Dietary.Fiber~Manufacturer, data = cereal, distribution=approximate(nresample=10000))\n",
    "fiber.hyp"
   ]
  },
  {
   "cell_type": "markdown",
   "metadata": {},
   "source": [
    "Our p-value is greater than 5% significance level therefore we accept our null hypothesis and claim that the median of fiber is the same among Manufacturers."
   ]
  },
  {
   "cell_type": "code",
   "execution_count": 147,
   "metadata": {},
   "outputs": [
    {
     "data": {
      "text/plain": [
       "\n",
       "\tApproximative Kruskal-Wallis Test\n",
       "\n",
       "data:  Sugar by\n",
       "\t Manufacturer (General Mills, Kellogg's, Post, Quaker)\n",
       "chi-squared = 12.706, p-value = 0.0042\n"
      ]
     },
     "metadata": {},
     "output_type": "display_data"
    }
   ],
   "source": [
    "sugar.hyp = kruskal_test(Sugar~Manufacturer, data = cereal, distribution=approximate(nresample=10000))\n",
    "sugar.hyp"
   ]
  },
  {
   "cell_type": "markdown",
   "metadata": {},
   "source": [
    "Our p-value is less than our 5% significance level, therefore we can reject the null hypothesis and claim that the median of sugar is different between manufacturers."
   ]
  },
  {
   "cell_type": "code",
   "execution_count": 148,
   "metadata": {},
   "outputs": [
    {
     "data": {
      "text/plain": [
       "\n",
       "\tApproximative Kruskal-Wallis Test\n",
       "\n",
       "data:  Protein by\n",
       "\t Manufacturer (General Mills, Kellogg's, Post, Quaker)\n",
       "chi-squared = 10.262, p-value = 0.012\n"
      ]
     },
     "metadata": {},
     "output_type": "display_data"
    }
   ],
   "source": [
    "protein.hyp = kruskal_test(Protein~Manufacturer, data = cereal, distribution=approximate(nresample=10000))\n",
    "protein.hyp"
   ]
  },
  {
   "cell_type": "markdown",
   "metadata": {},
   "source": [
    "Our p-value is less than our 5% significance level, therefore we can reject the null hypothesis and claim that the median of protein is different between manufacturers.\n",
    "\n",
    "We can see that the cereal produced by each Manufacturer has similar amounts of saturated fat, sodium, and fiber. However, the amounts of calories, total fat, carbohydrates, sugar, and protein differ for each Manufacturer.\n",
    "\n",
    "I will create trees to predict Manufacturer based on calories, total fat, carbohydrates, sugar, and protein."
   ]
  },
  {
   "cell_type": "code",
   "execution_count": 149,
   "metadata": {},
   "outputs": [],
   "source": [
    "cereal1 = cereal %>% mutate(Cereal.Name = NULL)%>%mutate(CFBAI.Approved = NULL)\n",
    "cereal1 = na.omit(cereal1)"
   ]
  },
  {
   "cell_type": "code",
   "execution_count": 150,
   "metadata": {},
   "outputs": [],
   "source": [
    "library(rpart)"
   ]
  },
  {
   "cell_type": "code",
   "execution_count": 151,
   "metadata": {},
   "outputs": [],
   "source": [
    "tree.nut = rpart(Manufacturer~Calories+Total.Fat+Total.Carbohydrate+Sugar+Protein, data = cereal1)"
   ]
  },
  {
   "cell_type": "code",
   "execution_count": 153,
   "metadata": {},
   "outputs": [
    {
     "data": {
      "text/plain": [
       "n= 85 \n",
       "\n",
       "node), split, n, loss, yval, (yprob)\n",
       "      * denotes terminal node\n",
       "\n",
       " 1) root 85 56 Kellogg's (0.30588235 0.34117647 0.24705882 0.10588235)  \n",
       "   2) Total.Fat< 1.25 40 17 Kellogg's (0.25000000 0.57500000 0.17500000 0.00000000)  \n",
       "     4) Sugar< 9.5 19 10 General Mills (0.47368421 0.36842105 0.15789474 0.00000000) *\n",
       "     5) Sugar>=9.5 21  5 Kellogg's (0.04761905 0.76190476 0.19047619 0.00000000) *\n",
       "   3) Total.Fat>=1.25 45 29 General Mills (0.35555556 0.13333333 0.31111111 0.20000000)  \n",
       "     6) Sugar< 10.5 23 11 General Mills (0.52173913 0.00000000 0.21739130 0.26086957)  \n",
       "      12) Total.Carbohydrate< 24.5 10  1 General Mills (0.90000000 0.00000000 0.00000000 0.10000000) *\n",
       "      13) Total.Carbohydrate>=24.5 13  8 Post (0.23076923 0.00000000 0.38461538 0.38461538) *\n",
       "     7) Sugar>=10.5 22 13 Post (0.18181818 0.27272727 0.40909091 0.13636364)  \n",
       "      14) Protein>=2.5 10  4 Kellogg's (0.30000000 0.60000000 0.10000000 0.00000000) *\n",
       "      15) Protein< 2.5 12  4 Post (0.08333333 0.00000000 0.66666667 0.25000000) *"
      ]
     },
     "metadata": {},
     "output_type": "display_data"
    },
    {
     "data": {
      "image/png": "[encoded data removed]",
      "text/plain": [
       "plot without title"
      ]
     },
     "metadata": {
      "image/png": {
       "height": 420,
       "width": 420
      }
     },
     "output_type": "display_data"
    }
   ],
   "source": [
    "plot(tree.nut, uniform = TRUE, ylim = c(0, 1))\n",
    "text(tree.nut, pretty = 0)\n",
    "tree.nut"
   ]
  },
  {
   "cell_type": "markdown",
   "metadata": {},
   "source": [
    "We can use the tree above to predict which Manufacturer a cereal belongs to based on total fat, sugar, carbohydrates, and protein. It appears that General Mills is the healthier option. "
   ]
  },
  {
   "cell_type": "markdown",
   "metadata": {},
   "source": [
    "# Regression\n",
    "\n",
    "Seven cereals in the dataset were not available for purchase at the local supermarket and thus have missing values for the variable Price. These cereals form a natural test set; that is, we do not know their values. I will explore several different methods for predicting the price of those cereals to assess and select the model that is best for predicting Price."
   ]
  },
  {
   "cell_type": "code",
   "execution_count": 154,
   "metadata": {},
   "outputs": [],
   "source": [
    "library(dplyr)\n",
    "library(leaps)"
   ]
  },
  {
   "cell_type": "code",
   "execution_count": 155,
   "metadata": {},
   "outputs": [],
   "source": [
    "new.cereal = cereal %>% filter(!is.na(Price)) %>% mutate(Cereal.Name = NULL)%>% \n",
    "    mutate(Manufacturer = as.numeric(Manufacturer))%>% mutate (CFBAI.UNC = as.numeric(CFBAI.UNC))%>% \n",
    "    mutate(CFBAI.Approved = as.numeric(CFBAI.Approved)) # used to remove rows that do not have an indicated price and \n",
    "    # turn qualitative variables into numerical values"
   ]
  },
  {
   "cell_type": "code",
   "execution_count": 156,
   "metadata": {},
   "outputs": [
    {
     "data": {
      "text/html": [
       "<style>\n",
       ".list-inline {list-style: none; margin:0; padding: 0}\n",
       ".list-inline>li {display: inline-block}\n",
       ".list-inline>li:not(:last-child)::after {content: \"\\00b7\"; padding: 0 .5ex}\n",
       "</style>\n",
       "<ol class=list-inline><li>95</li><li>37</li></ol>\n"
      ],
      "text/latex": [
       "\\begin{enumerate*}\n",
       "\\item 95\n",
       "\\item 37\n",
       "\\end{enumerate*}\n"
      ],
      "text/markdown": [
       "1. 95\n",
       "2. 37\n",
       "\n",
       "\n"
      ],
      "text/plain": [
       "[1] 95 37"
      ]
     },
     "metadata": {},
     "output_type": "display_data"
    },
    {
     "data": {
      "text/html": [
       "<style>\n",
       ".list-inline {list-style: none; margin:0; padding: 0}\n",
       ".list-inline>li {display: inline-block}\n",
       ".list-inline>li:not(:last-child)::after {content: \"\\00b7\"; padding: 0 .5ex}\n",
       "</style>\n",
       "<ol class=list-inline><li>88</li><li>36</li></ol>\n"
      ],
      "text/latex": [
       "\\begin{enumerate*}\n",
       "\\item 88\n",
       "\\item 36\n",
       "\\end{enumerate*}\n"
      ],
      "text/markdown": [
       "1. 88\n",
       "2. 36\n",
       "\n",
       "\n"
      ],
      "text/plain": [
       "[1] 88 36"
      ]
     },
     "metadata": {},
     "output_type": "display_data"
    }
   ],
   "source": [
    "dim(cereal)\n",
    "dim(new.cereal)"
   ]
  },
  {
   "cell_type": "markdown",
   "metadata": {},
   "source": [
    "Seven of the cereals did not have a price listed so our new full data set will include 88 observations. I also removed the variable Cereal Name as it is just an ID and does not provide us with any information.\n",
    "\n",
    "We still have some missing data so I will removed those observations as well."
   ]
  },
  {
   "cell_type": "code",
   "execution_count": 157,
   "metadata": {},
   "outputs": [
    {
     "data": {
      "text/html": [
       "<style>\n",
       ".list-inline {list-style: none; margin:0; padding: 0}\n",
       ".list-inline>li {display: inline-block}\n",
       ".list-inline>li:not(:last-child)::after {content: \"\\00b7\"; padding: 0 .5ex}\n",
       "</style>\n",
       "<ol class=list-inline><li>76</li><li>36</li></ol>\n"
      ],
      "text/latex": [
       "\\begin{enumerate*}\n",
       "\\item 76\n",
       "\\item 36\n",
       "\\end{enumerate*}\n"
      ],
      "text/markdown": [
       "1. 76\n",
       "2. 36\n",
       "\n",
       "\n"
      ],
      "text/plain": [
       "[1] 76 36"
      ]
     },
     "metadata": {},
     "output_type": "display_data"
    }
   ],
   "source": [
    "new.cereal = na.omit(new.cereal)\n",
    "dim(new.cereal)"
   ]
  },
  {
   "cell_type": "markdown",
   "metadata": {},
   "source": [
    "Our new data set contains 76  observations.\n",
    "\n",
    "I split the data into train and test sets. I will make a 85/15 split."
   ]
  },
  {
   "cell_type": "code",
   "execution_count": 158,
   "metadata": {},
   "outputs": [],
   "source": [
    "set.seed(183)\n",
    "train = sample(nrow(new.cereal),nrow(new.cereal)*.85)\n",
    "train.cereal = new.cereal[train,]\n",
    "test.cereal = new.cereal[-train,]"
   ]
  },
  {
   "cell_type": "markdown",
   "metadata": {},
   "source": [
    "First, I will perform best subset selection."
   ]
  },
  {
   "cell_type": "code",
   "execution_count": 159,
   "metadata": {},
   "outputs": [],
   "source": [
    "bestsub = regsubsets(Price~., data = train.cereal, nvmax = 35)"
   ]
  },
  {
   "cell_type": "code",
   "execution_count": 160,
   "metadata": {},
   "outputs": [
    {
     "data": {
      "image/png": "[encoded data removed]",
      "text/plain": [
       "plot without title"
      ]
     },
     "metadata": {
      "image/png": {
       "height": 420,
       "width": 420
      }
     },
     "output_type": "display_data"
    }
   ],
   "source": [
    "test.mat = model.matrix(Price~., data = test.cereal, nvmax = 35)\n",
    "val.errors = rep(NA, 35)\n",
    "for (i in 1:35) {\n",
    "    coefi = coef(bestsub, id = i)\n",
    "    pred = test.mat[, names(coefi)] %*% coefi\n",
    "    val.errors[i] = mean((pred - test.cereal$Price)^2)\n",
    "}\n",
    "plot(val.errors, xlab = \"Number of Predictors\", ylab = \"Test MSE\", pch = 19, type = \"b\",col=\"deeppink\")"
   ]
  },
  {
   "cell_type": "code",
   "execution_count": 161,
   "metadata": {},
   "outputs": [
    {
     "data": {
      "text/html": [
       "3"
      ],
      "text/latex": [
       "3"
      ],
      "text/markdown": [
       "3"
      ],
      "text/plain": [
       "[1] 3"
      ]
     },
     "metadata": {},
     "output_type": "display_data"
    }
   ],
   "source": [
    "which.min(val.errors)"
   ]
  },
  {
   "cell_type": "code",
   "execution_count": 162,
   "metadata": {},
   "outputs": [
    {
     "data": {
      "text/html": [
       "<style>\n",
       ".dl-inline {width: auto; margin:0; padding: 0}\n",
       ".dl-inline>dt, .dl-inline>dd {float: none; width: auto; display: inline-block}\n",
       ".dl-inline>dt::after {content: \":\\0020\"; padding-right: .5ex}\n",
       ".dl-inline>dt:not(:first-of-type) {padding-left: .5ex}\n",
       "</style><dl class=dl-inline><dt>(Intercept)</dt><dd>4.83174048213194</dd><dt>Dietary.Fiber</dt><dd>0.0710234201491279</dd><dt>Thiamin</dt><dd>-0.00885916336316383</dd><dt>Vitamin.B6</dt><dd>0.0112976544944958</dd></dl>\n"
      ],
      "text/latex": [
       "\\begin{description*}\n",
       "\\item[(Intercept)] 4.83174048213194\n",
       "\\item[Dietary.Fiber] 0.0710234201491279\n",
       "\\item[Thiamin] -0.00885916336316383\n",
       "\\item[Vitamin.B6] 0.0112976544944958\n",
       "\\end{description*}\n"
      ],
      "text/markdown": [
       "(Intercept)\n",
       ":   4.83174048213194Dietary.Fiber\n",
       ":   0.0710234201491279Thiamin\n",
       ":   -0.00885916336316383Vitamin.B6\n",
       ":   0.0112976544944958\n",
       "\n"
      ],
      "text/plain": [
       "  (Intercept) Dietary.Fiber       Thiamin    Vitamin.B6 \n",
       "  4.831740482   0.071023420  -0.008859163   0.011297654 "
      ]
     },
     "metadata": {},
     "output_type": "display_data"
    }
   ],
   "source": [
    "coef(bestsub,which.min(val.errors))"
   ]
  },
  {
   "cell_type": "markdown",
   "metadata": {},
   "source": [
    "Using best subset selection, we see that our best subset consists only of the variable Dietary Fiber."
   ]
  },
  {
   "cell_type": "code",
   "execution_count": 163,
   "metadata": {},
   "outputs": [],
   "source": [
    "predict.regsubsets = function(object, newdata, id, ...){\n",
    "  form = as.formula(object$call[[2]])\n",
    "  mat = model.matrix(form, newdata)\n",
    "  coefi = coef(object, id=id)\n",
    "  xvars = names(coefi)\n",
    "  mat[,xvars]%*%coefi\n",
    "}"
   ]
  },
  {
   "cell_type": "code",
   "execution_count": 164,
   "metadata": {},
   "outputs": [
    {
     "data": {
      "text/html": [
       "0.191346767812747"
      ],
      "text/latex": [
       "0.191346767812747"
      ],
      "text/markdown": [
       "0.191346767812747"
      ],
      "text/plain": [
       "[1] 0.1913468"
      ]
     },
     "metadata": {},
     "output_type": "display_data"
    }
   ],
   "source": [
    "bestsub.MSE = val.errors[1]\n",
    "bestsub.MSE"
   ]
  },
  {
   "cell_type": "markdown",
   "metadata": {},
   "source": [
    "Using best subset selection, we have a MSE of 0.191. Now I will perform ridge regression."
   ]
  },
  {
   "cell_type": "code",
   "execution_count": 165,
   "metadata": {},
   "outputs": [],
   "source": [
    "train.mat = model.matrix(Price~., data = train.cereal)\n",
    "test.mat = model.matrix(Price~., data = test.cereal)"
   ]
  },
  {
   "cell_type": "markdown",
   "metadata": {},
   "source": [
    "We need a grid that will include a wide range of possibilities for lambda."
   ]
  },
  {
   "cell_type": "code",
   "execution_count": 166,
   "metadata": {},
   "outputs": [],
   "source": [
    "grid = 10^seq(4,-2,length=100)"
   ]
  },
  {
   "cell_type": "markdown",
   "metadata": {},
   "source": [
    "Now we must fit the ridge regression model."
   ]
  },
  {
   "cell_type": "code",
   "execution_count": 167,
   "metadata": {},
   "outputs": [],
   "source": [
    "library(glmnet)\n",
    "ridge = glmnet(train.mat,train.cereal$Price,alpha=0,lambda=grid)"
   ]
  },
  {
   "cell_type": "markdown",
   "metadata": {},
   "source": [
    "We must find the lambda that gives the minimum MSE by cross validation on the training set."
   ]
  },
  {
   "cell_type": "code",
   "execution_count": 168,
   "metadata": {},
   "outputs": [],
   "source": [
    "cv.ridge = cv.glmnet(train.mat,train.cereal$Price, alpha=0,lambda = grid)"
   ]
  },
  {
   "cell_type": "markdown",
   "metadata": {},
   "source": [
    "We can plot the log(Lambda) vs MSE."
   ]
  },
  {
   "cell_type": "code",
   "execution_count": 169,
   "metadata": {},
   "outputs": [
    {
     "data": {
      "image/png": "[encoded data removed]",
      "text/plain": [
       "plot without title"
      ]
     },
     "metadata": {
      "image/png": {
       "height": 420,
       "width": 420
      }
     },
     "output_type": "display_data"
    }
   ],
   "source": [
    "plot(cv.ridge)"
   ]
  },
  {
   "cell_type": "markdown",
   "metadata": {},
   "source": [
    "We find the best lambda by find the lambda with the mininium MSE on the trainging data."
   ]
  },
  {
   "cell_type": "code",
   "execution_count": 170,
   "metadata": {},
   "outputs": [
    {
     "data": {
      "text/html": [
       "0.432876128108306"
      ],
      "text/latex": [
       "0.432876128108306"
      ],
      "text/markdown": [
       "0.432876128108306"
      ],
      "text/plain": [
       "[1] 0.4328761"
      ]
     },
     "metadata": {},
     "output_type": "display_data"
    }
   ],
   "source": [
    "bestlam = cv.ridge$lambda.min\n",
    "bestlam"
   ]
  },
  {
   "cell_type": "markdown",
   "metadata": {},
   "source": [
    "We can see our best lambda is when $\\lambda=0.433$. Then we fit the ridge regression model for when $\\lambda=0.433$."
   ]
  },
  {
   "cell_type": "code",
   "execution_count": 171,
   "metadata": {},
   "outputs": [
    {
     "data": {
      "text/plain": [
       "37 x 1 sparse Matrix of class \"dgCMatrix\"\n",
       "                              s0\n",
       "(Intercept)         4.623026e+00\n",
       "(Intercept)         .           \n",
       "Manufacturer       -3.616440e-02\n",
       "CFBAI.UNC           5.299872e-02\n",
       "CFBAI.Approved     -6.135886e-02\n",
       "Size                1.786449e-02\n",
       "Shelf               2.077227e-02\n",
       "Location            7.967861e-03\n",
       "Serving.Size        1.282481e-04\n",
       "Calories           -1.931820e-04\n",
       "Total.Fat          -9.059760e-03\n",
       "Saturated.Fat       9.650006e-03\n",
       "Sodium             -2.056066e-04\n",
       "Potassium           1.771162e-04\n",
       "Total.Carbohydrate  1.239392e-05\n",
       "Dietary.Fiber       1.605841e-02\n",
       "Sugar              -7.268247e-03\n",
       "Protein             6.816275e-03\n",
       "Vitamin.A           1.560656e-03\n",
       "Vitamin.C          -1.487029e-04\n",
       "Calcium             2.997548e-03\n",
       "Iron                2.696031e-04\n",
       "Vitamin.D          -2.367268e-04\n",
       "Vitamin.E          -1.060994e-03\n",
       "Thiamin            -1.293564e-03\n",
       "Riboflavin          8.102491e-04\n",
       "Niacin              5.292246e-04\n",
       "Pantothenic.Acid   -9.373964e-04\n",
       "Vitamin.B6          1.531135e-03\n",
       "Folic.Acid          8.162043e-04\n",
       "Vitamin.B12         1.122767e-03\n",
       "Zinc                1.894084e-04\n",
       "Magnesium           5.162761e-03\n",
       "Phosphorus          6.208084e-03\n",
       "Selenium           -1.055505e-02\n",
       "Copper              1.782909e-04\n",
       "Manganese          -1.032469e-03"
      ]
     },
     "metadata": {},
     "output_type": "display_data"
    }
   ],
   "source": [
    "ridge.cereal = glmnet(train.mat, train.cereal$Price, alpha=0, lambda = bestlam)\n",
    "coef(ridge.cereal)"
   ]
  },
  {
   "cell_type": "markdown",
   "metadata": {},
   "source": [
    "We use $\\lambda=0.433$ directly on the testing data to get the predicted values and find the MSE."
   ]
  },
  {
   "cell_type": "code",
   "execution_count": 172,
   "metadata": {},
   "outputs": [
    {
     "data": {
      "text/html": [
       "0.101799071283202"
      ],
      "text/latex": [
       "0.101799071283202"
      ],
      "text/markdown": [
       "0.101799071283202"
      ],
      "text/plain": [
       "[1] 0.1017991"
      ]
     },
     "metadata": {},
     "output_type": "display_data"
    }
   ],
   "source": [
    "pred.ridge = predict(ridge, s=bestlam, newx=test.mat)\n",
    "ridge.MSE = mean((test.cereal$Price-pred.ridge)^2)\n",
    "ridge.MSE"
   ]
  },
  {
   "cell_type": "markdown",
   "metadata": {},
   "source": [
    "Using ridge regression, we have a MSE of 0.102. So far, best subset selection is the best model based on a lower MSE. I will perform lasso regression. "
   ]
  },
  {
   "cell_type": "code",
   "execution_count": 173,
   "metadata": {},
   "outputs": [],
   "source": [
    "lasso = glmnet(train.mat,train.cereal$Price, alpha=1,lambda=grid)"
   ]
  },
  {
   "cell_type": "markdown",
   "metadata": {},
   "source": [
    "We find lambda by cross validation on the training set."
   ]
  },
  {
   "cell_type": "code",
   "execution_count": 174,
   "metadata": {},
   "outputs": [],
   "source": [
    "cv.lasso = cv.glmnet(train.mat, train.cereal$Price, alpha=1, lambda=grid)"
   ]
  },
  {
   "cell_type": "markdown",
   "metadata": {},
   "source": [
    "We can plot log(Lambda) vs MSE."
   ]
  },
  {
   "cell_type": "code",
   "execution_count": 175,
   "metadata": {},
   "outputs": [
    {
     "data": {
      "image/png": "[encoded data removed]",
      "text/plain": [
       "plot without title"
      ]
     },
     "metadata": {
      "image/png": {
       "height": 420,
       "width": 420
      }
     },
     "output_type": "display_data"
    }
   ],
   "source": [
    "plot(cv.lasso)"
   ]
  },
  {
   "cell_type": "markdown",
   "metadata": {},
   "source": [
    "We can find the best lambda by finding the lambda that minimizes MSE on the training set."
   ]
  },
  {
   "cell_type": "code",
   "execution_count": 176,
   "metadata": {},
   "outputs": [
    {
     "data": {
      "text/html": [
       "0.0533669923120631"
      ],
      "text/latex": [
       "0.0533669923120631"
      ],
      "text/markdown": [
       "0.0533669923120631"
      ],
      "text/plain": [
       "[1] 0.05336699"
      ]
     },
     "metadata": {},
     "output_type": "display_data"
    }
   ],
   "source": [
    "bestlam.lasso = cv.lasso$lambda.min\n",
    "bestlam.lasso"
   ]
  },
  {
   "cell_type": "markdown",
   "metadata": {},
   "source": [
    "Our best lambda is when $\\lambda=0.053$. We fit the lasso model with $\\lambda=0.053$. "
   ]
  },
  {
   "cell_type": "code",
   "execution_count": 177,
   "metadata": {},
   "outputs": [
    {
     "data": {
      "text/plain": [
       "37 x 1 sparse Matrix of class \"dgCMatrix\"\n",
       "                             s0\n",
       "(Intercept)         4.622098373\n",
       "(Intercept)         .          \n",
       "Manufacturer       -0.018607742\n",
       "CFBAI.UNC           0.009142607\n",
       "CFBAI.Approved      .          \n",
       "Size                0.021273481\n",
       "Shelf               .          \n",
       "Location            .          \n",
       "Serving.Size        .          \n",
       "Calories            .          \n",
       "Total.Fat           .          \n",
       "Saturated.Fat       .          \n",
       "Sodium              .          \n",
       "Potassium           .          \n",
       "Total.Carbohydrate  .          \n",
       "Dietary.Fiber       0.029133488\n",
       "Sugar              -0.007997310\n",
       "Protein             .          \n",
       "Vitamin.A           .          \n",
       "Vitamin.C           .          \n",
       "Calcium             .          \n",
       "Iron                .          \n",
       "Vitamin.D           .          \n",
       "Vitamin.E           .          \n",
       "Thiamin             .          \n",
       "Riboflavin          .          \n",
       "Niacin              .          \n",
       "Pantothenic.Acid    .          \n",
       "Vitamin.B6          0.001800465\n",
       "Folic.Acid          0.001184361\n",
       "Vitamin.B12         .          \n",
       "Zinc                .          \n",
       "Magnesium           .          \n",
       "Phosphorus          0.011176134\n",
       "Selenium            .          \n",
       "Copper              .          \n",
       "Manganese           .          "
      ]
     },
     "metadata": {},
     "output_type": "display_data"
    }
   ],
   "source": [
    "lasso.cereal = glmnet(train.mat, train.cereal$Price, alpha=1, lambda=bestlam.lasso)\n",
    "coef(lasso.cereal)"
   ]
  },
  {
   "cell_type": "markdown",
   "metadata": {},
   "source": [
    "We use $\\lambda=0.035$ on the testing data to get the predicted values and find the MSE."
   ]
  },
  {
   "cell_type": "code",
   "execution_count": 178,
   "metadata": {},
   "outputs": [
    {
     "data": {
      "text/html": [
       "0.101469875660701"
      ],
      "text/latex": [
       "0.101469875660701"
      ],
      "text/markdown": [
       "0.101469875660701"
      ],
      "text/plain": [
       "[1] 0.1014699"
      ]
     },
     "metadata": {},
     "output_type": "display_data"
    }
   ],
   "source": [
    "pred.lasso = predict(lasso, s=bestlam.lasso, newx = test.mat)\n",
    "lasso.MSE = mean((test.cereal$Price-pred.lasso)^2)\n",
    "lasso.MSE"
   ]
  },
  {
   "cell_type": "markdown",
   "metadata": {},
   "source": [
    "When using lasso regression, we have a MSE of 0.101. I will perform multiple regression on the full model."
   ]
  },
  {
   "cell_type": "code",
   "execution_count": 179,
   "metadata": {},
   "outputs": [
    {
     "data": {
      "text/html": [
       "4.52669440244336"
      ],
      "text/latex": [
       "4.52669440244336"
      ],
      "text/markdown": [
       "4.52669440244336"
      ],
      "text/plain": [
       "[1] 4.526694"
      ]
     },
     "metadata": {},
     "output_type": "display_data"
    }
   ],
   "source": [
    "lm = lm(Price~., data = train.cereal)\n",
    "lm.predict = predict(lm, test.cereal)\n",
    "lm.MSE = mean((lm.predict-test.cereal$Price)^2) \n",
    "lm.MSE"
   ]
  },
  {
   "cell_type": "markdown",
   "metadata": {},
   "source": [
    "We get a MSE of 4.53."
   ]
  },
  {
   "cell_type": "code",
   "execution_count": 180,
   "metadata": {},
   "outputs": [
    {
     "data": {
      "text/html": [
       "0.191346767812747"
      ],
      "text/latex": [
       "0.191346767812747"
      ],
      "text/markdown": [
       "0.191346767812747"
      ],
      "text/plain": [
       "[1] 0.1913468"
      ]
     },
     "metadata": {},
     "output_type": "display_data"
    },
    {
     "data": {
      "text/html": [
       "0.101799071283202"
      ],
      "text/latex": [
       "0.101799071283202"
      ],
      "text/markdown": [
       "0.101799071283202"
      ],
      "text/plain": [
       "[1] 0.1017991"
      ]
     },
     "metadata": {},
     "output_type": "display_data"
    },
    {
     "data": {
      "text/html": [
       "0.101469875660701"
      ],
      "text/latex": [
       "0.101469875660701"
      ],
      "text/markdown": [
       "0.101469875660701"
      ],
      "text/plain": [
       "[1] 0.1014699"
      ]
     },
     "metadata": {},
     "output_type": "display_data"
    },
    {
     "data": {
      "text/html": [
       "4.52669440244336"
      ],
      "text/latex": [
       "4.52669440244336"
      ],
      "text/markdown": [
       "4.52669440244336"
      ],
      "text/plain": [
       "[1] 4.526694"
      ]
     },
     "metadata": {},
     "output_type": "display_data"
    }
   ],
   "source": [
    "bestsub.MSE\n",
    "ridge.MSE\n",
    "lasso.MSE\n",
    "lm.MSE"
   ]
  },
  {
   "cell_type": "markdown",
   "metadata": {},
   "source": [
    "Comparing these models, we can conclude best subset selection is best with the lowest MSE of 0.101. Since best subset selection choose dietary fiber as the only significant predictor for price, we will look at a scatterplot and a linear model using grams of dietary fiber to predict price of cereal."
   ]
  },
  {
   "cell_type": "code",
   "execution_count": 181,
   "metadata": {},
   "outputs": [
    {
     "data": {
      "image/png": "[encoded data removed]",
      "text/plain": [
       "plot without title"
      ]
     },
     "metadata": {
      "image/png": {
       "height": 420,
       "width": 420
      }
     },
     "output_type": "display_data"
    }
   ],
   "source": [
    "plot(Dietary.Fiber, Price)"
   ]
  },
  {
   "cell_type": "code",
   "execution_count": 183,
   "metadata": {},
   "outputs": [
    {
     "data": {
      "image/png": "[encoded data removed]",
      "text/plain": [
       "Plot with title \"\""
      ]
     },
     "metadata": {
      "image/png": {
       "height": 420,
       "width": 420
      }
     },
     "output_type": "display_data"
    }
   ],
   "source": [
    "lm2 = lm(Price~Dietary.Fiber, data = new.cereal)\n",
    "par(mfrow=c(2,2))\n",
    "plot(lm2)"
   ]
  },
  {
   "cell_type": "code",
   "execution_count": 182,
   "metadata": {},
   "outputs": [
    {
     "data": {
      "text/plain": [
       "\n",
       "Call:\n",
       "lm(formula = Price ~ Dietary.Fiber, data = new.cereal)\n",
       "\n",
       "Residuals:\n",
       "     Min       1Q   Median       3Q      Max \n",
       "-1.33195 -0.10545 -0.03195  0.16805  0.89455 \n",
       "\n",
       "Coefficients:\n",
       "              Estimate Std. Error t value Pr(>|t|)    \n",
       "(Intercept)    4.82195    0.04928  97.844  < 2e-16 ***\n",
       "Dietary.Fiber  0.09117    0.01251   7.286 2.87e-10 ***\n",
       "---\n",
       "Signif. codes:  0 '***' 0.001 '**' 0.01 '*' 0.05 '.' 0.1 ' ' 1\n",
       "\n",
       "Residual standard error: 0.3103 on 74 degrees of freedom\n",
       "Multiple R-squared:  0.4177,\tAdjusted R-squared:  0.4099 \n",
       "F-statistic: 53.09 on 1 and 74 DF,  p-value: 2.867e-10\n"
      ]
     },
     "metadata": {},
     "output_type": "display_data"
    }
   ],
   "source": [
    "summary(lm2)"
   ]
  },
  {
   "cell_type": "markdown",
   "metadata": {},
   "source": [
    "The scatterplot and  Residual Diagnostic Plots show that there is a linear relationship between fiber and price of cereal. Using the summary, we can see that for every added gram of fiber in a cereal, the price will increase by approximately $0.09."
   ]
  },
  {
   "cell_type": "markdown",
   "metadata": {},
   "source": [
    "# Classification\n",
    "Quaker does not participate in the Children's Food and Beverage Advertising Initiative Program, so the 10 Quaker cereals have missing values for the variable CFBAI.Approved. These cereals form a natural test set; that is, we do not know their values. I will explore several different methods for predicting whether the cereal would be approved for advertising to children to assess and select the model that is best for predicting CFBAI.Approved. \n",
    "\n",
    "Some cereals are not approved because they fail to meet nutritional standards, while others are not approved because the company does not intend to advertise them to children. \n",
    "\n",
    "In order to be approved, the cereal must first meet the CFBAI criteria. This criteria is used to determine what foods could be advertised to children. It sets limits on calories, saturated fat, sodium, and sugar, and minimum contribution levels for important food groups or essential nutrients. \n",
    "\n",
    "First, I will look at the relationship between CFBAI.UNC and CFBAI.Approved. "
   ]
  },
  {
   "cell_type": "code",
   "execution_count": 184,
   "metadata": {},
   "outputs": [
    {
     "data": {
      "image/png": "[encoded data removed]",
      "text/plain": [
       "Plot with title \"\""
      ]
     },
     "metadata": {
      "image/png": {
       "height": 420,
       "width": 420
      }
     },
     "output_type": "display_data"
    }
   ],
   "source": [
    "plot(cereal$CFBAI.UNC,cereal$CFBAI.Approved, xlab = \"Meets CFBAI Criteria\", ylab = \"CFBAI Approved\")"
   ]
  },
  {
   "cell_type": "markdown",
   "metadata": {},
   "source": [
    "From the plot above, we can see that if a cereal does not meet the CFBAI criteria, it cannot be approved. However, if a cereal does meet the CFBAI criteria it may or not be approved. Since we can accurately predict that a cereal will not be approved if it does not meet the criteria, we can look at only the data that does meet the CFBAI criteria. "
   ]
  },
  {
   "cell_type": "code",
   "execution_count": 185,
   "metadata": {},
   "outputs": [],
   "source": [
    "new.cereal2 = cereal %>% filter(!is.na(CFBAI.UNC)) %>% mutate(Cereal.Name = NULL) %>% filter(CFBAI.UNC==\"Yes\")"
   ]
  },
  {
   "cell_type": "code",
   "execution_count": 186,
   "metadata": {},
   "outputs": [],
   "source": [
    "new.cereal2 = na.omit(new.cereal2)"
   ]
  },
  {
   "cell_type": "markdown",
   "metadata": {},
   "source": [
    "I will perform K-Nearest Neighbors."
   ]
  },
  {
   "cell_type": "code",
   "execution_count": 188,
   "metadata": {},
   "outputs": [],
   "source": [
    "library(parsnip)  \n",
    "library(kknn)  \n",
    "library(rsample)"
   ]
  },
  {
   "cell_type": "code",
   "execution_count": 189,
   "metadata": {},
   "outputs": [],
   "source": [
    "set.seed(487)\n",
    "cereal_splits = initial_split(new.cereal2, prop = 0.75)  \n",
    "cereal.train = training(cereal_splits)\n",
    "cereal.validation = testing(cereal_splits)"
   ]
  },
  {
   "cell_type": "code",
   "execution_count": 190,
   "metadata": {},
   "outputs": [],
   "source": [
    "K = 10\n",
    "k10.tidy = nearest_neighbor(mode = \"classification\", neighbors = K, dist_power = 2) %>%  \n",
    "  set_engine(\"kknn\") %>%\n",
    "  fit(formula = CFBAI.Approved ~ ., data = cereal.train)"
   ]
  },
  {
   "cell_type": "code",
   "execution_count": 191,
   "metadata": {},
   "outputs": [],
   "source": [
    "predicted.k10.tidy = predict(k10.tidy, new_data = cereal.validation)"
   ]
  },
  {
   "cell_type": "code",
   "execution_count": 192,
   "metadata": {},
   "outputs": [
    {
     "data": {
      "text/plain": [
       "         Actual\n",
       "Predicted No Yes\n",
       "      No   9   0\n",
       "      Yes  4   1"
      ]
     },
     "metadata": {},
     "output_type": "display_data"
    }
   ],
   "source": [
    "table(predicted.k10.tidy$.pred_class, cereal.validation$CFBAI.Approved, dnn = c(\"Predicted\",\"Actual\"))"
   ]
  },
  {
   "cell_type": "code",
   "execution_count": 194,
   "metadata": {},
   "outputs": [
    {
     "data": {
      "text/html": [
       "0.285714285714286"
      ],
      "text/latex": [
       "0.285714285714286"
      ],
      "text/markdown": [
       "0.285714285714286"
      ],
      "text/plain": [
       "[1] 0.2857143"
      ]
     },
     "metadata": {},
     "output_type": "display_data"
    }
   ],
   "source": [
    "knn.mse = 4/14\n",
    "knn.mse"
   ]
  },
  {
   "cell_type": "markdown",
   "metadata": {},
   "source": [
    "K-Nearest Neighbors gives us a misclassification rate of 28.6%. I will performing random forest."
   ]
  },
  {
   "cell_type": "code",
   "execution_count": 196,
   "metadata": {},
   "outputs": [],
   "source": [
    "library(ranger)"
   ]
  },
  {
   "cell_type": "code",
   "execution_count": 197,
   "metadata": {},
   "outputs": [
    {
     "data": {
      "text/plain": [
       "Ranger result\n",
       "\n",
       "Call:\n",
       " ranger(CFBAI.Approved ~ ., data = cereal.train, importance = \"permutation\",      write.forest = TRUE, seed = 573) \n",
       "\n",
       "Type:                             Classification \n",
       "Number of trees:                  500 \n",
       "Sample size:                      45 \n",
       "Number of independent variables:  35 \n",
       "Mtry:                             5 \n",
       "Target node size:                 1 \n",
       "Variable importance mode:         permutation \n",
       "Splitrule:                        gini \n",
       "OOB prediction error:             15.56 % "
      ]
     },
     "metadata": {},
     "output_type": "display_data"
    },
    {
     "data": {
      "text/html": [
       "<style>\n",
       ".dl-inline {width: auto; margin:0; padding: 0}\n",
       ".dl-inline>dt, .dl-inline>dd {float: none; width: auto; display: inline-block}\n",
       ".dl-inline>dt::after {content: \":\\0020\"; padding-right: .5ex}\n",
       ".dl-inline>dt:not(:first-of-type) {padding-left: .5ex}\n",
       "</style><dl class=dl-inline><dt>Manufacturer</dt><dd>4.4290369390006</dd><dt>CFBAI.UNC</dt><dd>0</dd><dt>Size</dt><dd>12.7911655194985</dd><dt>Shelf</dt><dd>-0.519481210839486</dd><dt>Location</dt><dd>100</dd><dt>Price</dt><dd>18.2972161438142</dd><dt>Serving.Size</dt><dd>28.8734884019755</dd><dt>Calories</dt><dd>6.12144872002208</dd><dt>Total.Fat</dt><dd>1.88998104458856</dd><dt>Saturated.Fat</dt><dd>-1.3539650585177</dd><dt>Sodium</dt><dd>12.9504045240448</dd><dt>Potassium</dt><dd>1.46515013175882</dd><dt>Total.Carbohydrate</dt><dd>10.6101146989645</dd><dt>Dietary.Fiber</dt><dd>4.27570353024257</dd><dt>Sugar</dt><dd>13.4924417363394</dd><dt>Protein</dt><dd>7.22414635454262</dd><dt>Vitamin.A</dt><dd>3.35434426628788</dd><dt>Vitamin.C</dt><dd>-2.06424898946632</dd><dt>Calcium</dt><dd>1.86827782503623</dd><dt>Iron</dt><dd>20.2907898545406</dd><dt>Vitamin.D</dt><dd>2.86531458958015</dd><dt>Vitamin.E</dt><dd>1.90631690451451</dd><dt>Thiamin</dt><dd>1.38655353318741</dd><dt>Riboflavin</dt><dd>1.98929717056718</dd><dt>Niacin</dt><dd>2.98291136748892</dd><dt>Pantothenic.Acid</dt><dd>0.256639638046692</dd><dt>Vitamin.B6</dt><dd>0.986828186592829</dd><dt>Folic.Acid</dt><dd>14.900077434379</dd><dt>Vitamin.B12</dt><dd>0.832205955881838</dd><dt>Zinc</dt><dd>2.88019821299407</dd><dt>Magnesium</dt><dd>7.95731573244019</dd><dt>Phosphorus</dt><dd>2.91254600093798</dd><dt>Selenium</dt><dd>0</dd><dt>Copper</dt><dd>0.10812831808879</dd><dt>Manganese</dt><dd>0</dd></dl>\n"
      ],
      "text/latex": [
       "\\begin{description*}\n",
       "\\item[Manufacturer] 4.4290369390006\n",
       "\\item[CFBAI.UNC] 0\n",
       "\\item[Size] 12.7911655194985\n",
       "\\item[Shelf] -0.519481210839486\n",
       "\\item[Location] 100\n",
       "\\item[Price] 18.2972161438142\n",
       "\\item[Serving.Size] 28.8734884019755\n",
       "\\item[Calories] 6.12144872002208\n",
       "\\item[Total.Fat] 1.88998104458856\n",
       "\\item[Saturated.Fat] -1.3539650585177\n",
       "\\item[Sodium] 12.9504045240448\n",
       "\\item[Potassium] 1.46515013175882\n",
       "\\item[Total.Carbohydrate] 10.6101146989645\n",
       "\\item[Dietary.Fiber] 4.27570353024257\n",
       "\\item[Sugar] 13.4924417363394\n",
       "\\item[Protein] 7.22414635454262\n",
       "\\item[Vitamin.A] 3.35434426628788\n",
       "\\item[Vitamin.C] -2.06424898946632\n",
       "\\item[Calcium] 1.86827782503623\n",
       "\\item[Iron] 20.2907898545406\n",
       "\\item[Vitamin.D] 2.86531458958015\n",
       "\\item[Vitamin.E] 1.90631690451451\n",
       "\\item[Thiamin] 1.38655353318741\n",
       "\\item[Riboflavin] 1.98929717056718\n",
       "\\item[Niacin] 2.98291136748892\n",
       "\\item[Pantothenic.Acid] 0.256639638046692\n",
       "\\item[Vitamin.B6] 0.986828186592829\n",
       "\\item[Folic.Acid] 14.900077434379\n",
       "\\item[Vitamin.B12] 0.832205955881838\n",
       "\\item[Zinc] 2.88019821299407\n",
       "\\item[Magnesium] 7.95731573244019\n",
       "\\item[Phosphorus] 2.91254600093798\n",
       "\\item[Selenium] 0\n",
       "\\item[Copper] 0.10812831808879\n",
       "\\item[Manganese] 0\n",
       "\\end{description*}\n"
      ],
      "text/markdown": [
       "Manufacturer\n",
       ":   4.4290369390006CFBAI.UNC\n",
       ":   0Size\n",
       ":   12.7911655194985Shelf\n",
       ":   -0.519481210839486Location\n",
       ":   100Price\n",
       ":   18.2972161438142Serving.Size\n",
       ":   28.8734884019755Calories\n",
       ":   6.12144872002208Total.Fat\n",
       ":   1.88998104458856Saturated.Fat\n",
       ":   -1.3539650585177Sodium\n",
       ":   12.9504045240448Potassium\n",
       ":   1.46515013175882Total.Carbohydrate\n",
       ":   10.6101146989645Dietary.Fiber\n",
       ":   4.27570353024257Sugar\n",
       ":   13.4924417363394Protein\n",
       ":   7.22414635454262Vitamin.A\n",
       ":   3.35434426628788Vitamin.C\n",
       ":   -2.06424898946632Calcium\n",
       ":   1.86827782503623Iron\n",
       ":   20.2907898545406Vitamin.D\n",
       ":   2.86531458958015Vitamin.E\n",
       ":   1.90631690451451Thiamin\n",
       ":   1.38655353318741Riboflavin\n",
       ":   1.98929717056718Niacin\n",
       ":   2.98291136748892Pantothenic.Acid\n",
       ":   0.256639638046692Vitamin.B6\n",
       ":   0.986828186592829Folic.Acid\n",
       ":   14.900077434379Vitamin.B12\n",
       ":   0.832205955881838Zinc\n",
       ":   2.88019821299407Magnesium\n",
       ":   7.95731573244019Phosphorus\n",
       ":   2.91254600093798Selenium\n",
       ":   0Copper\n",
       ":   0.10812831808879Manganese\n",
       ":   0\n",
       "\n"
      ],
      "text/plain": [
       "      Manufacturer          CFBAI.UNC               Size              Shelf \n",
       "         4.4290369          0.0000000         12.7911655         -0.5194812 \n",
       "          Location              Price       Serving.Size           Calories \n",
       "       100.0000000         18.2972161         28.8734884          6.1214487 \n",
       "         Total.Fat      Saturated.Fat             Sodium          Potassium \n",
       "         1.8899810         -1.3539651         12.9504045          1.4651501 \n",
       "Total.Carbohydrate      Dietary.Fiber              Sugar            Protein \n",
       "        10.6101147          4.2757035         13.4924417          7.2241464 \n",
       "         Vitamin.A          Vitamin.C            Calcium               Iron \n",
       "         3.3543443         -2.0642490          1.8682778         20.2907899 \n",
       "         Vitamin.D          Vitamin.E            Thiamin         Riboflavin \n",
       "         2.8653146          1.9063169          1.3865535          1.9892972 \n",
       "            Niacin   Pantothenic.Acid         Vitamin.B6         Folic.Acid \n",
       "         2.9829114          0.2566396          0.9868282         14.9000774 \n",
       "       Vitamin.B12               Zinc          Magnesium         Phosphorus \n",
       "         0.8322060          2.8801982          7.9573157          2.9125460 \n",
       "          Selenium             Copper          Manganese \n",
       "         0.0000000          0.1081283          0.0000000 "
      ]
     },
     "metadata": {},
     "output_type": "display_data"
    }
   ],
   "source": [
    "rf.class = ranger(CFBAI.Approved ~ ., data = cereal.train, importance = \"permutation\", write.forest = TRUE, seed = 573)\n",
    "rf.class\n",
    "\n",
    "normalized.importance.class = importance(rf.class)/max(importance(rf.class))*100 # normalized to 100%\n",
    "normalized.importance.class"
   ]
  },
  {
   "cell_type": "code",
   "execution_count": 198,
   "metadata": {},
   "outputs": [
    {
     "data": {
      "image/png": "[encoded data removed]",
      "text/plain": [
       "plot without title"
      ]
     },
     "metadata": {
      "image/png": {
       "height": 420,
       "width": 420
      }
     },
     "output_type": "display_data"
    }
   ],
   "source": [
    "barplot(sort(normalized.importance.class, decreasing = TRUE), ylab = \"Relative Importance (%)\", las = 2  )"
   ]
  },
  {
   "cell_type": "code",
   "execution_count": 199,
   "metadata": {},
   "outputs": [],
   "source": [
    "rf.class.predict = predict(rf.class, data = cereal.validation)\n",
    "rf.accuracy = tibble(actual = cereal.validation$CFBAI.Approved, predicted = rf.class.predict$predictions)"
   ]
  },
  {
   "cell_type": "code",
   "execution_count": 203,
   "metadata": {},
   "outputs": [],
   "source": [
    "library(yardstick)"
   ]
  },
  {
   "cell_type": "code",
   "execution_count": 204,
   "metadata": {},
   "outputs": [
    {
     "data": {
      "text/html": [
       "<table class=\"dataframe\">\n",
       "<caption>A tibble: 1 × 3</caption>\n",
       "<thead>\n",
       "\t<tr><th scope=col>.metric</th><th scope=col>.estimator</th><th scope=col>.estimate</th></tr>\n",
       "\t<tr><th scope=col>&lt;chr&gt;</th><th scope=col>&lt;chr&gt;</th><th scope=col>&lt;dbl&gt;</th></tr>\n",
       "</thead>\n",
       "<tbody>\n",
       "\t<tr><td>accuracy</td><td>binary</td><td>0.7857143</td></tr>\n",
       "</tbody>\n",
       "</table>\n"
      ],
      "text/latex": [
       "A tibble: 1 × 3\n",
       "\\begin{tabular}{lll}\n",
       " .metric & .estimator & .estimate\\\\\n",
       " <chr> & <chr> & <dbl>\\\\\n",
       "\\hline\n",
       "\t accuracy & binary & 0.7857143\\\\\n",
       "\\end{tabular}\n"
      ],
      "text/markdown": [
       "\n",
       "A tibble: 1 × 3\n",
       "\n",
       "| .metric &lt;chr&gt; | .estimator &lt;chr&gt; | .estimate &lt;dbl&gt; |\n",
       "|---|---|---|\n",
       "| accuracy | binary | 0.7857143 |\n",
       "\n"
      ],
      "text/plain": [
       "  .metric  .estimator .estimate\n",
       "1 accuracy binary     0.7857143"
      ]
     },
     "metadata": {},
     "output_type": "display_data"
    }
   ],
   "source": [
    "accuracy(rf.accuracy, truth = actual, estimate = predicted)"
   ]
  },
  {
   "cell_type": "markdown",
   "metadata": {},
   "source": [
    "Overall, we get a 78.6% accuracy rate using random forests. This is a misclassification rate of 21.4%."
   ]
  },
  {
   "cell_type": "code",
   "execution_count": 205,
   "metadata": {},
   "outputs": [
    {
     "data": {
      "text/plain": [
       "          Truth\n",
       "Prediction No Yes\n",
       "       No  10   0\n",
       "       Yes  3   1"
      ]
     },
     "metadata": {},
     "output_type": "display_data"
    }
   ],
   "source": [
    "conf_mat(rf.accuracy, truth = actual, estimate = predicted)"
   ]
  },
  {
   "cell_type": "markdown",
   "metadata": {},
   "source": [
    "I will perform bagging."
   ]
  },
  {
   "cell_type": "code",
   "execution_count": 206,
   "metadata": {},
   "outputs": [],
   "source": [
    "new.cereal3 = new.cereal2 %>% mutate(Manufacturer = as.numeric(Manufacturer))%>% mutate(CFBAI.Approved = as.numeric(CFBAI.Approved))\n",
    "new.cereal3 = na.omit(new.cereal3)"
   ]
  },
  {
   "cell_type": "code",
   "execution_count": 207,
   "metadata": {},
   "outputs": [],
   "source": [
    "set.seed(594)\n",
    "cereal_splits = initial_split(new.cereal3, prop = 0.75)  \n",
    "cereal.train = training(cereal_splits)\n",
    "cereal.validation = testing(cereal_splits)"
   ]
  },
  {
   "cell_type": "code",
   "execution_count": 208,
   "metadata": {},
   "outputs": [
    {
     "data": {
      "text/html": [
       "0.259771549603175"
      ],
      "text/latex": [
       "0.259771549603175"
      ],
      "text/markdown": [
       "0.259771549603175"
      ],
      "text/plain": [
       "[1] 0.2597715"
      ]
     },
     "metadata": {},
     "output_type": "display_data"
    }
   ],
   "source": [
    "bag = ranger(CFBAI.Approved ~ ., data = cereal.train, mtry = 35, importance = \"permutation\", write.forest = TRUE, seed = 465)\n",
    "bag.predict = predict(bag, data = cereal.validation)\n",
    "bag.mse = mean((cereal.validation$CFBAI.Approved-bag.predict$predictions)^2)\n",
    "bag.mse "
   ]
  },
  {
   "cell_type": "markdown",
   "metadata": {},
   "source": [
    "We get a misclassifiation rate of 26% when we use bagging, which is lower than knn but greater than random forests. However, we can see that location has a 100% relative importance rate."
   ]
  },
  {
   "cell_type": "code",
   "execution_count": 209,
   "metadata": {},
   "outputs": [],
   "source": [
    "library(rpart)"
   ]
  },
  {
   "cell_type": "code",
   "execution_count": 210,
   "metadata": {},
   "outputs": [
    {
     "name": "stdout",
     "output_type": "stream",
     "text": [
      "Call:\n",
      "rpart(formula = CFBAI.Approved ~ ., data = new.cereal2)\n",
      "  n= 59 \n",
      "\n",
      "         CP nsplit rel error    xerror      xstd\n",
      "1 0.5263158      0 1.0000000 1.0000000 0.1888979\n",
      "2 0.0100000      1 0.4736842 0.4736842 0.1453539\n",
      "\n",
      "Variable importance\n",
      "  Location       Iron Folic.Acid      Sugar       Size      Price \n",
      "        29         17         14         14         13         12 \n",
      "\n",
      "Node number 1: 59 observations,    complexity param=0.5263158\n",
      "  predicted class=No   expected loss=0.3220339  P(node) =1\n",
      "    class counts:    40    19\n",
      "   probabilities: 0.678 0.322 \n",
      "  left son=2 (35 obs) right son=3 (24 obs)\n",
      "  Primary splits:\n",
      "      Location     < 4.5  to the right, improve=12.074620, (0 missing)\n",
      "      Serving.Size < 29.5 to the right, improve= 8.644763, (0 missing)\n",
      "      Iron         < 32.5 to the right, improve= 6.693587, (0 missing)\n",
      "      Sodium       < 175  to the right, improve= 5.082712, (0 missing)\n",
      "      Sugar        < 8.5  to the left,  improve= 5.082712, (0 missing)\n",
      "  Surrogate splits:\n",
      "      Iron       < 42.5 to the right, agree=0.831, adj=0.583, (0 split)\n",
      "      Sugar      < 8.5  to the left,  agree=0.797, adj=0.500, (0 split)\n",
      "      Folic.Acid < 45   to the right, agree=0.797, adj=0.500, (0 split)\n",
      "      Size       < 11.9 to the right, agree=0.780, adj=0.458, (0 split)\n",
      "      Price      < 5.14 to the right, agree=0.763, adj=0.417, (0 split)\n",
      "\n",
      "Node number 2: 35 observations\n",
      "  predicted class=No   expected loss=0.05714286  P(node) =0.5932203\n",
      "    class counts:    33     2\n",
      "   probabilities: 0.943 0.057 \n",
      "\n",
      "Node number 3: 24 observations\n",
      "  predicted class=Yes  expected loss=0.2916667  P(node) =0.4067797\n",
      "    class counts:     7    17\n",
      "   probabilities: 0.292 0.708 \n",
      "\n"
     ]
    }
   ],
   "source": [
    "tree.approve = rpart(CFBAI.Approved~., data = new.cereal2)\n",
    "summary(tree.approve)"
   ]
  },
  {
   "cell_type": "code",
   "execution_count": 211,
   "metadata": {},
   "outputs": [
    {
     "data": {
      "text/plain": [
       "n= 59 \n",
       "\n",
       "node), split, n, loss, yval, (yprob)\n",
       "      * denotes terminal node\n",
       "\n",
       "1) root 59 19 No (0.67796610 0.32203390)  \n",
       "  2) Location>=4.5 35  2 No (0.94285714 0.05714286) *\n",
       "  3) Location< 4.5 24  7 Yes (0.29166667 0.70833333) *"
      ]
     },
     "metadata": {},
     "output_type": "display_data"
    },
    {
     "data": {
      "image/png": "[encoded data removed]",
      "text/plain": [
       "plot without title"
      ]
     },
     "metadata": {
      "image/png": {
       "height": 420,
       "width": 420
      }
     },
     "output_type": "display_data"
    }
   ],
   "source": [
    "plot(tree.approve, uniform = TRUE, ylim = c(0, 1.2))\n",
    "text(tree.approve, pretty = 0)\n",
    "tree.approve"
   ]
  },
  {
   "cell_type": "markdown",
   "metadata": {},
   "source": [
    "Using trees, we can see that cereal with location greater or equal to 4.5 would not be approved to market to childen and a location less than 4.5 would be approved."
   ]
  },
  {
   "cell_type": "markdown",
   "metadata": {},
   "source": [
    "During my analysis of the cereal data, I have found some interesting results. I have discovered that Kellogg's, General Mills, Post, and Quaker produce cereal with similar levels of sodium, saturated fat, and calories. Through my analysis, I found that the price of cereal depends on the amount of fiber it contains. I also found that cereal that is approved to be marketed to children  depends on the location in which the box's tag is located, which was a very odd find. In order to be meet the CFBAI nutritional criteria, a cereal must have certain limits on calories, saturated fat, sodium, and sugar. One question that I found myself asking was what would make a manufacturer not want to advertise their cereal to children. "
   ]
  }
 ],
 "metadata": {
  "kernelspec": {
   "display_name": "R",
   "language": "R",
   "name": "ir"
  },
  "language_info": {
   "codemirror_mode": "r",
   "file_extension": ".r",
   "mimetype": "text/x-r-source",
   "name": "R",
   "pygments_lexer": "r",
   "version": "3.6.3"
  }
 },
 "nbformat": 4,
 "nbformat_minor": 4
}
